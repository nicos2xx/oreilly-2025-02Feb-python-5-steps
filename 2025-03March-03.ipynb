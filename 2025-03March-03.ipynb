{
 "cells": [
  {
   "cell_type": "markdown",
   "metadata": {},
   "source": [
    "# Agenda, week 4: Functions\n",
    "\n",
    "- Q&A\n",
    "- What are functions?\n",
    "- Writing simple functions\n",
    "- Arguments and parameters\n",
    "- Return values\n",
    "- Complex return values\n",
    "- Local vs. global variables\n",
    "- More advanced parameter types"
   ]
  },
  {
   "cell_type": "markdown",
   "metadata": {},
   "source": [
    "# What are functions?\n",
    "\n",
    "I've already said that functions (and methods) are the verbs in a programming language. When we want our program to do something, we invoke a function.\n",
    "\n",
    "If we want the computer to do new things that are specific to our interests/projects, do we need to write functions?\n",
    "\n",
    "Answer: No!\n",
    "\n",
    "If we want, we can use only the builtin functions to do whatever we want. But that's a bad idea:\n",
    "\n",
    "- DRY (don't repeat yourself) rule -- if we have the same functionality in several places, we can write a function and then call it in each of those places. If/when the function then needs fine-tuning, debugging, improvements, etc., we can modify it in one place, and those modifications will affect all of the invocations\n",
    "- We can think at a higher level -- rather than thinking about many very small actions, we can write a function and then think of it as a larger, higher-level action. This is known as *abstraction*. We don't think about the small stuff, but give it a name and think about the larger container."
   ]
  }
 ],
 "metadata": {
  "kernelspec": {
   "display_name": "Python 3 (ipykernel)",
   "language": "python",
   "name": "python3"
  },
  "language_info": {
   "codemirror_mode": {
    "name": "ipython",
    "version": 3
   },
   "file_extension": ".py",
   "mimetype": "text/x-python",
   "name": "python",
   "nbconvert_exporter": "python",
   "pygments_lexer": "ipython3",
   "version": "3.13.2"
  }
 },
 "nbformat": 4,
 "nbformat_minor": 4
}
