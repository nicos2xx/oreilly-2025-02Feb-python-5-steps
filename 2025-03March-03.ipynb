{
 "cells": [
  {
   "cell_type": "markdown",
   "metadata": {},
   "source": [
    "# Agenda, week 4: Functions\n",
    "\n",
    "- Q&A\n",
    "- What are functions?\n",
    "- Writing simple functions\n",
    "- Arguments and parameters\n",
    "- Return values\n",
    "- Complex return values\n",
    "- Local vs. global variables\n",
    "- More advanced parameter types"
   ]
  },
  {
   "cell_type": "markdown",
   "metadata": {},
   "source": [
    "# What are functions?\n",
    "\n",
    "I've already said that functions (and methods) are the verbs in a programming language. When we want our program to do something, we invoke a function.\n",
    "\n",
    "If we want the computer to do new things that are specific to our interests/projects, do we need to write functions?\n",
    "\n",
    "Answer: No!\n",
    "\n",
    "If we want, we can use only the builtin functions to do whatever we want. But that's a bad idea:\n",
    "\n",
    "- DRY (don't repeat yourself) rule -- if we have the same functionality in several places, we can write a function and then call it in each of those places. If/when the function then needs fine-tuning, debugging, improvements, etc., we can modify it in one place, and those modifications will affect all of the invocations\n",
    "- We can think at a higher level -- rather than thinking about many very small actions, we can write a function and then think of it as a larger, higher-level action. This is known as *abstraction*. We don't think about the small stuff, but give it a name and think about the larger container.\n",
    "\n",
    "The important thing to remember is that a function gives one (new) name to a variety of actions that we could have listed one at a time."
   ]
  },
  {
   "cell_type": "markdown",
   "metadata": {},
   "source": [
    "# How can we write our own function?\n",
    "\n",
    "- We use the keyword `def` (\"define\") to start a function definition.\n",
    "- Then we name the function we want to write. This name should follow the same rules as all Python variables -- all lowercase, using `_` between words, and make it appropriate for the task it'll do\n",
    "- Then we have (for now) empty `()`\n",
    "- At the end of the (first) line, we have `:`\n",
    "- Following that, we have an indented \"function body,\" the stuff that will execute every time we call the function. The function body can contain any Python code we want -- `if`, `for`, `input`, `print`, etc.\n",
    "- The function body doesn't execute when we define the function! Rather, it executes when we invoke the function."
   ]
  },
  {
   "cell_type": "code",
   "execution_count": 1,
   "metadata": {},
   "outputs": [],
   "source": [
    "def hello():\n",
    "    print('Hello out there!')    # inside of my function, I'm calling the \"print\" function!"
   ]
  },
  {
   "cell_type": "markdown",
   "metadata": {},
   "source": [
    "# Now what?\n",
    "\n",
    "We've now defined our function. We have actually defined a variable, `hello`, and it has a function in it. Functions are nouns in Python, just like strings, lists, tuples, dicts, etc. The difference is, we can also execute them.\n",
    "\n",
    "Because `def` defines a variable (just like `=`, but for functions), this means that you **cannot** in Python have a variable and a function with the same name. It would be like having to variables named `x`; if you do that, then the latter one to be defined is still active/available.\n",
    "\n",
    "If we want to call our function, we can put its name in the code, followed by `()`, which tell Python to execute the function."
   ]
  },
  {
   "cell_type": "code",
   "execution_count": 2,
   "metadata": {},
   "outputs": [
    {
     "name": "stdout",
     "output_type": "stream",
     "text": [
      "Hello out there!\n"
     ]
    }
   ],
   "source": [
    "hello()"
   ]
  },
  {
   "cell_type": "markdown",
   "metadata": {},
   "source": [
    "# Exercise: Calculator\n",
    "\n",
    "1. Define a function, `calc`, that will allow us to perform some basic calculations.\n",
    "2. When the function is run, it will invoke `input` three times to get three values from the user:\n",
    "    - the first number\n",
    "    - the operator (as a string)\n",
    "    - the second number\n",
    "3. Remember that `input` always returns a string, so you'll need to convert the numbers from strings into integers.\n",
    "4. The operator should be either `+` or `-`.\n",
    "5. Print the full expression and its solution. If the user provided an operator that we don't support, the result can be \"not supported.\"\n",
    "\n",
    "Example:\n",
    "\n",
    "    First: 10\n",
    "    Operator: +\n",
    "    Second: 5\n",
    "    10 + 5 = 15\n",
    "\n",
    "    First: 10\n",
    "    Operator: **\n",
    "    Second: 3\n",
    "    10 ** 3 = (not supported)\n",
    "\n"
   ]
  },
  {
   "cell_type": "code",
   "execution_count": 10,
   "metadata": {},
   "outputs": [],
   "source": [
    "def calc():\n",
    "    first = input('First: ').strip()\n",
    "    op = input('Operator: ').strip()\n",
    "    second = input('Second: ').strip()\n",
    "\n",
    "    first = int(first)\n",
    "    second = int(second)\n",
    "\n",
    "    if op == '+':\n",
    "        result = first + second\n",
    "    elif op == '-':\n",
    "        result = first - second\n",
    "    else:\n",
    "        result = f'(Operator {op} is not supported)'\n",
    "\n",
    "    print(f'{first} {op} {second} = {result}')"
   ]
  },
  {
   "cell_type": "code",
   "execution_count": 11,
   "metadata": {},
   "outputs": [
    {
     "name": "stdin",
     "output_type": "stream",
     "text": [
      "First:  10\n",
      "Operator:  **\n",
      "Second:  6\n"
     ]
    },
    {
     "name": "stdout",
     "output_type": "stream",
     "text": [
      "10 ** 6 = (Operator ** is not supported)\n"
     ]
    }
   ],
   "source": [
    "calc()"
   ]
  },
  {
   "cell_type": "code",
   "execution_count": 12,
   "metadata": {},
   "outputs": [
    {
     "name": "stdin",
     "output_type": "stream",
     "text": [
      "Enter the first number:  2\n",
      "Enter the operator (+ or - ):  +\n",
      "Enter the second number:  3\n"
     ]
    },
    {
     "name": "stdout",
     "output_type": "stream",
     "text": [
      "2 + 3 = 5\n"
     ]
    }
   ],
   "source": [
    "# SL\n",
    "\n",
    "def calc():\n",
    "    number1 = int(input(\"Enter the first number: \"))\n",
    "    operator = input(\"Enter the operator (+ or - ): \")\n",
    "    number2 = int(input(\"Enter the second number: \"))\n",
    "    \n",
    "    if operator == \"+\":\n",
    "        result = number1 + number2\n",
    "        print(f\"{number1} + {number2} = {result}\")\n",
    "    elif operator == \"-\":\n",
    "        result = number1 - number2\n",
    "        print(f\"{number1} - {number2} = {result}\")\n",
    "    else:\n",
    "        print(\"Operator not supported\")\n",
    "calc()"
   ]
  },
  {
   "cell_type": "code",
   "execution_count": 15,
   "metadata": {},
   "outputs": [],
   "source": [
    "# CC\n",
    "\n",
    "def calc():\n",
    "    f_nm = input(\"first number:\").strip()\n",
    "    f_nm = int(f_nm)\n",
    "    \n",
    "    operator = input(\"operator:\").strip()\n",
    "    \n",
    "    s_nm = input(\"second number:\").strip()\n",
    "    s_nm = int(s_nm)\n",
    "    \n",
    "    if operator == \"+\":\n",
    "        result = f_nm + s_nm\n",
    "    elif operator == \"-\":\n",
    "        result = f_nm - s_nm\n",
    "    else:\n",
    "        print(\"not supported\")\n",
    "    \n",
    "    print(f\"primo numero:{f_nm}\\noperatore{operator}\\nsecondo numero:{s_nm}\\nresult: {result}\")"
   ]
  },
  {
   "cell_type": "code",
   "execution_count": 16,
   "metadata": {},
   "outputs": [
    {
     "name": "stdin",
     "output_type": "stream",
     "text": [
      "first number: 10\n",
      "operator: +\n",
      "second number: 3\n"
     ]
    },
    {
     "name": "stdout",
     "output_type": "stream",
     "text": [
      "primo numero:10\n",
      "operatore+\n",
      "secondo numero:3\n",
      "result: 13\n"
     ]
    }
   ],
   "source": [
    "calc()"
   ]
  },
  {
   "cell_type": "code",
   "execution_count": 19,
   "metadata": {},
   "outputs": [
    {
     "name": "stdin",
     "output_type": "stream",
     "text": [
      "Enter your first number:  100\n",
      "Enter an operator (+ or -):  *\n",
      "Enter a second number:  23\n"
     ]
    },
    {
     "name": "stdout",
     "output_type": "stream",
     "text": [
      "Operator not supported!\n"
     ]
    }
   ],
   "source": [
    "# EP\n",
    "\n",
    "def calc():\n",
    "    x = int(input(\"Enter your first number: \"))\n",
    "    y = input(\"Enter an operator (+ or -): \")\n",
    "    w = int(input(\"Enter a second number: \"))\n",
    "    \n",
    "    if y == \"+\":\n",
    "        result = x + w\n",
    "        print(f\"The result is: {result}\")\n",
    "    elif y == \"-\":\n",
    "        result = x - w\n",
    "        print(f\"The result is: {result}\")\n",
    "    else:\n",
    "        print(\"Operator not supported!\")\n",
    "\n",
    "calc()\n"
   ]
  },
  {
   "cell_type": "code",
   "execution_count": 20,
   "metadata": {},
   "outputs": [
    {
     "name": "stdin",
     "output_type": "stream",
     "text": [
      "Enter first number:  10\n",
      "Enter operator:  +\n",
      "Enter second number:  3\n"
     ]
    },
    {
     "name": "stdout",
     "output_type": "stream",
     "text": [
      "10 + 3 = 13\n"
     ]
    }
   ],
   "source": [
    "# CK\n",
    "\n",
    "\n",
    "def calculate():\n",
    "    first_number = int(input(\"Enter first number: \"))\n",
    "    operator = input(\"Enter operator: \").strip()\n",
    "    second_number = int(input(\"Enter second number: \"))\n",
    "\n",
    "    if operator == \"+\":\n",
    "        result = first_number + second_number\n",
    "        print(f'{first_number} + {second_number} = {result}')\n",
    "    elif operator == \"-\":\n",
    "        result = first_number - second_number\n",
    "        print(f'{first_number} + {second_number} = {result}')\n",
    "    else:\n",
    "        print(\"Invalid operator\")\n",
    "\n",
    "calculate()"
   ]
  },
  {
   "cell_type": "code",
   "execution_count": 21,
   "metadata": {},
   "outputs": [
    {
     "name": "stdout",
     "output_type": "stream",
     "text": [
      "10 + 3 = 13\n"
     ]
    }
   ],
   "source": [
    "calculate()"
   ]
  },
  {
   "cell_type": "code",
   "execution_count": 22,
   "metadata": {},
   "outputs": [],
   "source": [
    "# CA\n",
    "\n",
    "def calc():\n",
    "    result = 0\n",
    "    first_number = int(input(\"Tell me the first  number:\"))\n",
    "    operator_numbers = input(\"Tell a operator: \")\n",
    "    second_number = int(input(\"Tell me the second number: \"))\n",
    "    \n",
    "    if operator_numbers == \"+\" :\n",
    "        result = first_number + second_number\n",
    "    elif operator_numbers == '-':\n",
    "        result = first_number - second_number\n",
    "    else:\n",
    "        print(\"not supported\")\n",
    "        \n",
    "    print(f\"{first_number} {operator_numbers} {second_number} = {result}\")"
   ]
  },
  {
   "cell_type": "code",
   "execution_count": 23,
   "metadata": {},
   "outputs": [
    {
     "name": "stdin",
     "output_type": "stream",
     "text": [
      "Tell me the first  number: 3\n",
      "Tell a operator:  *\n",
      "Tell me the second number:  5\n"
     ]
    },
    {
     "name": "stdout",
     "output_type": "stream",
     "text": [
      "not supported\n",
      "3 * 5 = 0\n"
     ]
    }
   ],
   "source": [
    "calc()"
   ]
  },
  {
   "cell_type": "code",
   "execution_count": 24,
   "metadata": {},
   "outputs": [
    {
     "name": "stdout",
     "output_type": "stream",
     "text": [
      "Hello out there!\n"
     ]
    }
   ],
   "source": [
    "def hello():\n",
    "    print('Hello out there!')\n",
    "\n",
    "hello()    "
   ]
  },
  {
   "cell_type": "markdown",
   "metadata": {},
   "source": [
    "What happens if I want to print the person's name? Right now, I have "
   ]
  }
 ],
 "metadata": {
  "kernelspec": {
   "display_name": "Python 3 (ipykernel)",
   "language": "python",
   "name": "python3"
  },
  "language_info": {
   "codemirror_mode": {
    "name": "ipython",
    "version": 3
   },
   "file_extension": ".py",
   "mimetype": "text/x-python",
   "name": "python",
   "nbconvert_exporter": "python",
   "pygments_lexer": "ipython3",
   "version": "3.13.2"
  }
 },
 "nbformat": 4,
 "nbformat_minor": 4
}
