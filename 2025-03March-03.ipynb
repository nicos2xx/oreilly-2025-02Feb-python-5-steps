{
 "cells": [
  {
   "cell_type": "markdown",
   "metadata": {},
   "source": [
    "# Agenda, week 4: Functions\n",
    "\n",
    "- Q&A\n",
    "- What are functions?\n",
    "- Writing simple functions\n",
    "- Arguments and parameters\n",
    "- Return values\n",
    "- Complex return values\n",
    "- Local vs. global variables\n",
    "- More advanced parameter types"
   ]
  },
  {
   "cell_type": "markdown",
   "metadata": {},
   "source": [
    "# What are functions?\n",
    "\n",
    "I've already said that functions (and methods) are the verbs in a programming language. When we want our program to do something, we invoke a function.\n",
    "\n",
    "If we want the computer to do new things that are specific to our interests/projects, do we need to write functions?\n",
    "\n",
    "Answer: No!\n",
    "\n",
    "If we want, we can use only the builtin functions to do whatever we want. But that's a bad idea:\n",
    "\n",
    "- DRY (don't repeat yourself) rule -- if we have the same functionality in several places, we can write a function and then call it in each of those places. If/when the function then needs fine-tuning, debugging, improvements, etc., we can modify it in one place, and those modifications will affect all of the invocations\n",
    "- We can think at a higher level -- rather than thinking about many very small actions, we can write a function and then think of it as a larger, higher-level action. This is known as *abstraction*. We don't think about the small stuff, but give it a name and think about the larger container.\n",
    "\n",
    "The important thing to remember is that a function gives one (new) name to a variety of actions that we could have listed one at a time."
   ]
  },
  {
   "cell_type": "markdown",
   "metadata": {},
   "source": [
    "# How can we write our own function?\n",
    "\n",
    "- We use the keyword `def` (\"define\") to start a function definition.\n",
    "- Then we name the function we want to write. This name should follow the same rules as all Python variables -- all lowercase, using `_` between words, and make it appropriate for the task it'll do\n",
    "- Then we have (for now) empty `()`\n",
    "- At the end of the (first) line, we have `:`\n",
    "- Following that, we have an indented \"function body,\" the stuff that will execute every time we call the function. The function body can contain any Python code we want -- `if`, `for`, `input`, `print`, etc.\n",
    "- The function body doesn't execute when we define the function! Rather, it executes when we invoke the function."
   ]
  },
  {
   "cell_type": "code",
   "execution_count": 1,
   "metadata": {},
   "outputs": [],
   "source": [
    "def hello():\n",
    "    print('Hello out there!')    # inside of my function, I'm calling the \"print\" function!"
   ]
  },
  {
   "cell_type": "markdown",
   "metadata": {},
   "source": [
    "# Now what?\n",
    "\n",
    "We've now defined our function. We have actually defined a variable, `hello`, and it has a function in it. Functions are nouns in Python, just like strings, lists, tuples, dicts, etc. The difference is, we can also execute them.\n",
    "\n",
    "Because `def` defines a variable (just like `=`, but for functions), this means that you **cannot** in Python have a variable and a function with the same name. It would be like having to variables named `x`; if you do that, then the latter one to be defined is still active/available.\n",
    "\n",
    "If we want to call our function, we can put its name in the code, followed by `()`, which tell Python to execute the function."
   ]
  },
  {
   "cell_type": "code",
   "execution_count": 2,
   "metadata": {},
   "outputs": [
    {
     "name": "stdout",
     "output_type": "stream",
     "text": [
      "Hello out there!\n"
     ]
    }
   ],
   "source": [
    "hello()"
   ]
  },
  {
   "cell_type": "markdown",
   "metadata": {},
   "source": [
    "# Exercise: Calculator\n",
    "\n",
    "1. Define a function, `calc`, that will allow us to perform some basic calculations.\n",
    "2. When the function is run, it will invoke `input` three times to get three values from the user:\n",
    "    - the first number\n",
    "    - the operator (as a string)\n",
    "    - the second number\n",
    "3. Remember that `input` always returns a string, so you'll need to convert the numbers from strings into integers.\n",
    "4. The operator should be either `+` or `-`.\n",
    "5. Print the full expression and its solution. If the user provided an operator that we don't support, the result can be \"not supported.\"\n",
    "\n",
    "Example:\n",
    "\n",
    "    First: 10\n",
    "    Operator: +\n",
    "    Second: 5\n",
    "    10 + 5 = 15\n",
    "\n",
    "    First: 10\n",
    "    Operator: **\n",
    "    Second: 3\n",
    "    10 ** 3 = (not supported)\n",
    "\n"
   ]
  },
  {
   "cell_type": "code",
   "execution_count": 10,
   "metadata": {},
   "outputs": [],
   "source": [
    "def calc():\n",
    "    first = input('First: ').strip()\n",
    "    op = input('Operator: ').strip()\n",
    "    second = input('Second: ').strip()\n",
    "\n",
    "    first = int(first)\n",
    "    second = int(second)\n",
    "\n",
    "    if op == '+':\n",
    "        result = first + second\n",
    "    elif op == '-':\n",
    "        result = first - second\n",
    "    else:\n",
    "        result = f'(Operator {op} is not supported)'\n",
    "\n",
    "    print(f'{first} {op} {second} = {result}')"
   ]
  },
  {
   "cell_type": "code",
   "execution_count": 11,
   "metadata": {},
   "outputs": [
    {
     "name": "stdin",
     "output_type": "stream",
     "text": [
      "First:  10\n",
      "Operator:  **\n",
      "Second:  6\n"
     ]
    },
    {
     "name": "stdout",
     "output_type": "stream",
     "text": [
      "10 ** 6 = (Operator ** is not supported)\n"
     ]
    }
   ],
   "source": [
    "calc()"
   ]
  },
  {
   "cell_type": "code",
   "execution_count": 12,
   "metadata": {},
   "outputs": [
    {
     "name": "stdin",
     "output_type": "stream",
     "text": [
      "Enter the first number:  2\n",
      "Enter the operator (+ or - ):  +\n",
      "Enter the second number:  3\n"
     ]
    },
    {
     "name": "stdout",
     "output_type": "stream",
     "text": [
      "2 + 3 = 5\n"
     ]
    }
   ],
   "source": [
    "# SL\n",
    "\n",
    "def calc():\n",
    "    number1 = int(input(\"Enter the first number: \"))\n",
    "    operator = input(\"Enter the operator (+ or - ): \")\n",
    "    number2 = int(input(\"Enter the second number: \"))\n",
    "    \n",
    "    if operator == \"+\":\n",
    "        result = number1 + number2\n",
    "        print(f\"{number1} + {number2} = {result}\")\n",
    "    elif operator == \"-\":\n",
    "        result = number1 - number2\n",
    "        print(f\"{number1} - {number2} = {result}\")\n",
    "    else:\n",
    "        print(\"Operator not supported\")\n",
    "calc()"
   ]
  },
  {
   "cell_type": "code",
   "execution_count": 15,
   "metadata": {},
   "outputs": [],
   "source": [
    "# CC\n",
    "\n",
    "def calc():\n",
    "    f_nm = input(\"first number:\").strip()\n",
    "    f_nm = int(f_nm)\n",
    "    \n",
    "    operator = input(\"operator:\").strip()\n",
    "    \n",
    "    s_nm = input(\"second number:\").strip()\n",
    "    s_nm = int(s_nm)\n",
    "    \n",
    "    if operator == \"+\":\n",
    "        result = f_nm + s_nm\n",
    "    elif operator == \"-\":\n",
    "        result = f_nm - s_nm\n",
    "    else:\n",
    "        print(\"not supported\")\n",
    "    \n",
    "    print(f\"primo numero:{f_nm}\\noperatore{operator}\\nsecondo numero:{s_nm}\\nresult: {result}\")"
   ]
  },
  {
   "cell_type": "code",
   "execution_count": 16,
   "metadata": {},
   "outputs": [
    {
     "name": "stdin",
     "output_type": "stream",
     "text": [
      "first number: 10\n",
      "operator: +\n",
      "second number: 3\n"
     ]
    },
    {
     "name": "stdout",
     "output_type": "stream",
     "text": [
      "primo numero:10\n",
      "operatore+\n",
      "secondo numero:3\n",
      "result: 13\n"
     ]
    }
   ],
   "source": [
    "calc()"
   ]
  },
  {
   "cell_type": "code",
   "execution_count": 19,
   "metadata": {},
   "outputs": [
    {
     "name": "stdin",
     "output_type": "stream",
     "text": [
      "Enter your first number:  100\n",
      "Enter an operator (+ or -):  *\n",
      "Enter a second number:  23\n"
     ]
    },
    {
     "name": "stdout",
     "output_type": "stream",
     "text": [
      "Operator not supported!\n"
     ]
    }
   ],
   "source": [
    "# EP\n",
    "\n",
    "def calc():\n",
    "    x = int(input(\"Enter your first number: \"))\n",
    "    y = input(\"Enter an operator (+ or -): \")\n",
    "    w = int(input(\"Enter a second number: \"))\n",
    "    \n",
    "    if y == \"+\":\n",
    "        result = x + w\n",
    "        print(f\"The result is: {result}\")\n",
    "    elif y == \"-\":\n",
    "        result = x - w\n",
    "        print(f\"The result is: {result}\")\n",
    "    else:\n",
    "        print(\"Operator not supported!\")\n",
    "\n",
    "calc()\n"
   ]
  },
  {
   "cell_type": "code",
   "execution_count": 20,
   "metadata": {},
   "outputs": [
    {
     "name": "stdin",
     "output_type": "stream",
     "text": [
      "Enter first number:  10\n",
      "Enter operator:  +\n",
      "Enter second number:  3\n"
     ]
    },
    {
     "name": "stdout",
     "output_type": "stream",
     "text": [
      "10 + 3 = 13\n"
     ]
    }
   ],
   "source": [
    "# CK\n",
    "\n",
    "\n",
    "def calculate():\n",
    "    first_number = int(input(\"Enter first number: \"))\n",
    "    operator = input(\"Enter operator: \").strip()\n",
    "    second_number = int(input(\"Enter second number: \"))\n",
    "\n",
    "    if operator == \"+\":\n",
    "        result = first_number + second_number\n",
    "        print(f'{first_number} + {second_number} = {result}')\n",
    "    elif operator == \"-\":\n",
    "        result = first_number - second_number\n",
    "        print(f'{first_number} + {second_number} = {result}')\n",
    "    else:\n",
    "        print(\"Invalid operator\")\n",
    "\n",
    "calculate()"
   ]
  },
  {
   "cell_type": "code",
   "execution_count": 21,
   "metadata": {},
   "outputs": [
    {
     "name": "stdout",
     "output_type": "stream",
     "text": [
      "10 + 3 = 13\n"
     ]
    }
   ],
   "source": [
    "calculate()"
   ]
  },
  {
   "cell_type": "code",
   "execution_count": 22,
   "metadata": {},
   "outputs": [],
   "source": [
    "# CA\n",
    "\n",
    "def calc():\n",
    "    result = 0\n",
    "    first_number = int(input(\"Tell me the first  number:\"))\n",
    "    operator_numbers = input(\"Tell a operator: \")\n",
    "    second_number = int(input(\"Tell me the second number: \"))\n",
    "    \n",
    "    if operator_numbers == \"+\" :\n",
    "        result = first_number + second_number\n",
    "    elif operator_numbers == '-':\n",
    "        result = first_number - second_number\n",
    "    else:\n",
    "        print(\"not supported\")\n",
    "        \n",
    "    print(f\"{first_number} {operator_numbers} {second_number} = {result}\")"
   ]
  },
  {
   "cell_type": "code",
   "execution_count": 23,
   "metadata": {},
   "outputs": [
    {
     "name": "stdin",
     "output_type": "stream",
     "text": [
      "Tell me the first  number: 3\n",
      "Tell a operator:  *\n",
      "Tell me the second number:  5\n"
     ]
    },
    {
     "name": "stdout",
     "output_type": "stream",
     "text": [
      "not supported\n",
      "3 * 5 = 0\n"
     ]
    }
   ],
   "source": [
    "calc()"
   ]
  },
  {
   "cell_type": "code",
   "execution_count": 26,
   "metadata": {},
   "outputs": [
    {
     "name": "stdin",
     "output_type": "stream",
     "text": [
      "First:  10\n",
      "Operator:  /\n",
      "Second:  2\n"
     ]
    },
    {
     "name": "stdout",
     "output_type": "stream",
     "text": [
      "10 / 2 = 5.0\n"
     ]
    }
   ],
   "source": [
    "# how would we handle division?\n",
    "\n",
    "def calc():\n",
    "    first = input('First: ').strip()\n",
    "    op = input('Operator: ').strip()\n",
    "    second = input('Second: ').strip()\n",
    "\n",
    "    first = int(first)\n",
    "    second = int(second)\n",
    "\n",
    "    if op == '+':\n",
    "        result = first + second\n",
    "    elif op == '-':\n",
    "        result = first - second\n",
    "    elif op == '/':\n",
    "        result = first / second\n",
    "    else:\n",
    "        result = f'(Operator {op} is not supported)'\n",
    "\n",
    "    print(f'{first} {op} {second} = {result}')\n",
    "\n",
    "calc()    "
   ]
  },
  {
   "cell_type": "code",
   "execution_count": 24,
   "metadata": {},
   "outputs": [
    {
     "name": "stdout",
     "output_type": "stream",
     "text": [
      "Hello out there!\n"
     ]
    }
   ],
   "source": [
    "def hello():\n",
    "    print('Hello out there!')\n",
    "\n",
    "hello()    "
   ]
  },
  {
   "cell_type": "markdown",
   "metadata": {},
   "source": [
    "What happens if I want to print the person's name? Right now, I have two options:\n",
    "\n",
    "1. I can use `input` inside of the function\n",
    "2. I can hard-code it, meaning define person's name and never change\n",
    "\n",
    "What we really want to do is modify the function, such that it can get input from whoever calls it.\n",
    "\n",
    "We've seen this a lot; if I want to invoke `len`, I have to pass it an *argument*, a value on which it will calculate the length."
   ]
  },
  {
   "cell_type": "code",
   "execution_count": 27,
   "metadata": {},
   "outputs": [
    {
     "data": {
      "text/plain": [
       "5"
      ]
     },
     "execution_count": 27,
     "metadata": {},
     "output_type": "execute_result"
    }
   ],
   "source": [
    "len('hello')"
   ]
  },
  {
   "cell_type": "markdown",
   "metadata": {},
   "source": [
    "Generally speaking, it's far better to get arguments from the caller than to invoke `input` inside of the function. If no other reason than you don't want to have to be at the computer every time your function is called to type/enter some values.\n",
    "\n",
    "To accept an argument, we'll need to define our function with one or more *parameters*. Each parameter will get the value from an argument."
   ]
  },
  {
   "cell_type": "code",
   "execution_count": 29,
   "metadata": {},
   "outputs": [],
   "source": [
    "def hello(name):   # name is a parameter in the \"hello\" function; it gets its value from whoever calls the function\n",
    "    print(f'Hello, {name}!')\n",
    "\n"
   ]
  },
  {
   "cell_type": "code",
   "execution_count": 30,
   "metadata": {},
   "outputs": [
    {
     "ename": "TypeError",
     "evalue": "hello() missing 1 required positional argument: 'name'",
     "output_type": "error",
     "traceback": [
      "\u001b[31m---------------------------------------------------------------------------\u001b[39m",
      "\u001b[31mTypeError\u001b[39m                                 Traceback (most recent call last)",
      "\u001b[36mCell\u001b[39m\u001b[36m \u001b[39m\u001b[32mIn[30]\u001b[39m\u001b[32m, line 2\u001b[39m\n\u001b[32m      1\u001b[39m \u001b[38;5;66;03m# if I try to call \"hello\" without any arguments, I'll get an error message\u001b[39;00m\n\u001b[32m----> \u001b[39m\u001b[32m2\u001b[39m \u001b[43mhello\u001b[49m\u001b[43m(\u001b[49m\u001b[43m)\u001b[49m\n",
      "\u001b[31mTypeError\u001b[39m: hello() missing 1 required positional argument: 'name'"
     ]
    }
   ],
   "source": [
    "# if I try to call \"hello\" without any arguments, I'll get an error message\n",
    "hello()"
   ]
  },
  {
   "cell_type": "code",
   "execution_count": 31,
   "metadata": {},
   "outputs": [
    {
     "name": "stdout",
     "output_type": "stream",
     "text": [
      "Hello, world!\n"
     ]
    }
   ],
   "source": [
    "hello('world')"
   ]
  },
  {
   "cell_type": "code",
   "execution_count": 32,
   "metadata": {},
   "outputs": [
    {
     "ename": "TypeError",
     "evalue": "hello() takes 1 positional argument but 2 were given",
     "output_type": "error",
     "traceback": [
      "\u001b[31m---------------------------------------------------------------------------\u001b[39m",
      "\u001b[31mTypeError\u001b[39m                                 Traceback (most recent call last)",
      "\u001b[36mCell\u001b[39m\u001b[36m \u001b[39m\u001b[32mIn[32]\u001b[39m\u001b[32m, line 1\u001b[39m\n\u001b[32m----> \u001b[39m\u001b[32m1\u001b[39m \u001b[43mhello\u001b[49m\u001b[43m(\u001b[49m\u001b[33;43m'\u001b[39;49m\u001b[33;43mout\u001b[39;49m\u001b[33;43m'\u001b[39;49m\u001b[43m,\u001b[49m\u001b[43m \u001b[49m\u001b[33;43m'\u001b[39;49m\u001b[33;43mthere\u001b[39;49m\u001b[33;43m'\u001b[39;49m\u001b[43m)\u001b[49m\n",
      "\u001b[31mTypeError\u001b[39m: hello() takes 1 positional argument but 2 were given"
     ]
    }
   ],
   "source": [
    "hello('out', 'there')"
   ]
  },
  {
   "cell_type": "code",
   "execution_count": 33,
   "metadata": {},
   "outputs": [
    {
     "name": "stdout",
     "output_type": "stream",
     "text": [
      "Hello, Reuven!\n"
     ]
    }
   ],
   "source": [
    "# parameters:    name\n",
    "# arguments:    'Reuven'\n",
    "\n",
    "def hello(name): \n",
    "    print(f'Hello, {name}!')\n",
    "\n",
    "hello('Reuven')"
   ]
  },
  {
   "cell_type": "markdown",
   "metadata": {},
   "source": [
    "# Arguments vs. parameters\n",
    "\n",
    "Many, many, *many* programmers confuse these two terms:\n",
    "\n",
    "- Arguments are values that we pass to functions when we invoke them.\n",
    "- Parameters are variables that are part of the function definition, and which get assigned arguments when the function is called.\n",
    "\n",
    "Generally speaking, the number of arguments must equal the number of parameters.\n",
    "\n",
    "Note that in Python, you cannot indicate what kind of value you require an argument to be. Anyone can call your function with whatever values they want."
   ]
  },
  {
   "cell_type": "code",
   "execution_count": 34,
   "metadata": {},
   "outputs": [],
   "source": [
    "def add(first, second):\n",
    "    print(first + second)"
   ]
  },
  {
   "cell_type": "code",
   "execution_count": 35,
   "metadata": {},
   "outputs": [
    {
     "name": "stdout",
     "output_type": "stream",
     "text": [
      "15\n"
     ]
    }
   ],
   "source": [
    "# parameters: first second\n",
    "# arguments:   10     5\n",
    "\n",
    "add(10, 5)"
   ]
  },
  {
   "cell_type": "code",
   "execution_count": 36,
   "metadata": {},
   "outputs": [
    {
     "name": "stdout",
     "output_type": "stream",
     "text": [
      "helloworld\n"
     ]
    }
   ],
   "source": [
    "add('hello', 'world')"
   ]
  },
  {
   "cell_type": "code",
   "execution_count": 37,
   "metadata": {},
   "outputs": [],
   "source": [
    "# CO\n",
    "\n",
    "def calc():\n",
    "  first_number = int(input(\"Enter a number: \").strip())\n",
    "  operator = input(\"Enter the operator; choose from [+, -]: \").strip()\n",
    "  second_number = int(input(\"Enter the last number: \").strip())\n",
    "\n",
    "  if operator == \"+\":\n",
    "    result = first_number + second_number\n",
    "  elif operator == \"-\":\n",
    "    result = first_number - second_number\n",
    "  else:\n",
    "    print(f\"Operator {operator} not supported\")\n",
    "\n",
    "  print(f\"{first_numbber} {operator} {second_number} = \")\n",
    "  print(result)"
   ]
  },
  {
   "cell_type": "code",
   "execution_count": 38,
   "metadata": {},
   "outputs": [
    {
     "name": "stdin",
     "output_type": "stream",
     "text": [
      "Enter a number:  100\n",
      "Enter the operator; choose from [+, -]:  +\n",
      "Enter the last number:  20\n"
     ]
    },
    {
     "name": "stdout",
     "output_type": "stream",
     "text": [
      "100 + 20 = \n",
      "120\n"
     ]
    }
   ],
   "source": [
    "calc()"
   ]
  },
  {
   "cell_type": "markdown",
   "metadata": {},
   "source": [
    "# Exercise: Add parameters to `calc`\n",
    "\n",
    "1. Modify `calc` such that it no longer uses `input` to get the numbers and operator.\n",
    "2. Rather, it should take three arguments, which will be assigned to three parameters.\n",
    "\n",
    "Example:\n",
    "\n",
    "    calc(10, '+', 3)   # should print 10 + 3 = 13"
   ]
  },
  {
   "cell_type": "code",
   "execution_count": 39,
   "metadata": {},
   "outputs": [
    {
     "ename": "TypeError",
     "evalue": "calc() missing 3 required positional arguments: 'first', 'op', and 'second'",
     "output_type": "error",
     "traceback": [
      "\u001b[31m---------------------------------------------------------------------------\u001b[39m",
      "\u001b[31mTypeError\u001b[39m                                 Traceback (most recent call last)",
      "\u001b[36mCell\u001b[39m\u001b[36m \u001b[39m\u001b[32mIn[39]\u001b[39m\u001b[32m, line 15\u001b[39m\n\u001b[32m     11\u001b[39m         result = \u001b[33mf\u001b[39m\u001b[33m'\u001b[39m\u001b[33m(Operator \u001b[39m\u001b[38;5;132;01m{\u001b[39;00mop\u001b[38;5;132;01m}\u001b[39;00m\u001b[33m is not supported)\u001b[39m\u001b[33m'\u001b[39m\n\u001b[32m     13\u001b[39m     \u001b[38;5;28mprint\u001b[39m(\u001b[33mf\u001b[39m\u001b[33m'\u001b[39m\u001b[38;5;132;01m{\u001b[39;00mfirst\u001b[38;5;132;01m}\u001b[39;00m\u001b[33m \u001b[39m\u001b[38;5;132;01m{\u001b[39;00mop\u001b[38;5;132;01m}\u001b[39;00m\u001b[33m \u001b[39m\u001b[38;5;132;01m{\u001b[39;00msecond\u001b[38;5;132;01m}\u001b[39;00m\u001b[33m = \u001b[39m\u001b[38;5;132;01m{\u001b[39;00mresult\u001b[38;5;132;01m}\u001b[39;00m\u001b[33m'\u001b[39m)\n\u001b[32m---> \u001b[39m\u001b[32m15\u001b[39m \u001b[43mcalc\u001b[49m\u001b[43m(\u001b[49m\u001b[43m)\u001b[49m    \n",
      "\u001b[31mTypeError\u001b[39m: calc() missing 3 required positional arguments: 'first', 'op', and 'second'"
     ]
    }
   ],
   "source": [
    "# how would we handle division?\n",
    "\n",
    "def calc(first, op, second):\n",
    "    if op == '+':\n",
    "        result = first + second\n",
    "    elif op == '-':\n",
    "        result = first - second\n",
    "    elif op == '/':\n",
    "        result = first / second\n",
    "    else:\n",
    "        result = f'(Operator {op} is not supported)'\n",
    "\n",
    "    print(f'{first} {op} {second} = {result}')\n",
    "\n",
    "calc()    "
   ]
  },
  {
   "cell_type": "code",
   "execution_count": 40,
   "metadata": {},
   "outputs": [
    {
     "name": "stdout",
     "output_type": "stream",
     "text": [
      "20 + 8 = 28\n"
     ]
    }
   ],
   "source": [
    "calc(20, '+', 8)"
   ]
  },
  {
   "cell_type": "code",
   "execution_count": 41,
   "metadata": {},
   "outputs": [
    {
     "name": "stdout",
     "output_type": "stream",
     "text": [
      "32 - 15 = 17\n"
     ]
    }
   ],
   "source": [
    "calc(32, '-', 15)"
   ]
  },
  {
   "cell_type": "code",
   "execution_count": 42,
   "metadata": {},
   "outputs": [
    {
     "name": "stdout",
     "output_type": "stream",
     "text": [
      "32 ** 15 = (Operator ** is not supported)\n"
     ]
    }
   ],
   "source": [
    "calc(32, '**', 15)"
   ]
  },
  {
   "cell_type": "code",
   "execution_count": 43,
   "metadata": {},
   "outputs": [
    {
     "name": "stdout",
     "output_type": "stream",
     "text": [
      "The result is: 1\n"
     ]
    }
   ],
   "source": [
    "# EP\n",
    "\n",
    "def calc(num1, op, num2):\n",
    "    \n",
    "    if op == \"+\":\n",
    "        result = num1 + num2\n",
    "        print(f\"The result is: {result}\")\n",
    "    elif op == \"-\":\n",
    "        result = num1 - num2\n",
    "        print(f\"The result is: {result}\")\n",
    "    else:\n",
    "        print(\"Operator not supported!\")\n",
    "\n",
    "calc(3, '-', 2)\n"
   ]
  },
  {
   "cell_type": "code",
   "execution_count": null,
   "metadata": {},
   "outputs": [],
   "source": [
    "# AR\n",
    "\n",
    "def calc(first, op, second):\n",
    "    val = []\n",
    "    if op == '+':\n",
    "        val.insert(0,int(first) + int(second))\n",
    "    elif op == '-':\n",
    "        val.insert(0,int(first) - int(second))\n",
    "\n",
    "    return val\n",
    "    \n",
    "while True:\n",
    "    first = input(\"First: \").strip()\n",
    "    op = input(\"Operator: \").strip()\n",
    "    second = input(\"Second: \").strip()\n",
    "\n",
    "    res = calc(first, op, second)\n",
    "\n",
    "    if len(res) == 1:\n",
    "        print(f'{first} {op} {second} = {res[0]}')\n",
    "    else:\n",
    "        print(f'{first} {op} {second} = (not supported)')\n",
    "        break\n",
    "    "
   ]
  },
  {
   "cell_type": "code",
   "execution_count": 44,
   "metadata": {},
   "outputs": [],
   "source": [
    "# SL\n",
    "\n",
    "def calc(number1, operator, number2):\n",
    "\n",
    "    if operator == \"+\":\n",
    "        result = number1 + number2\n",
    "        print(f\"{number1} + {number2} = {result}\")\n",
    "    elif operator == \"-\":\n",
    "        result = number1 - number2\n",
    "        print(f\"{number1} - {number2} = {result}\")\n",
    "    elif operator == \"/\":\n",
    "        result = number1 / number2\n",
    "        print(f\"{number1} / {number2} = {result}\")    \n",
    "    elif operator == \"*\":\n",
    "        result = number1 * number2\n",
    "        print(f\"{number1} * {number2} = {result}\")\n",
    "    else:\n",
    "        print(\"Operator not supported\")"
   ]
  },
  {
   "cell_type": "code",
   "execution_count": 45,
   "metadata": {},
   "outputs": [
    {
     "name": "stdout",
     "output_type": "stream",
     "text": [
      "10 * 3 = 30\n"
     ]
    }
   ],
   "source": [
    "calc(10, '*', 3)"
   ]
  },
  {
   "cell_type": "code",
   "execution_count": 46,
   "metadata": {},
   "outputs": [],
   "source": [
    "# CC\n",
    "\n",
    "def calc(first, operator, second):\n",
    "    if operator == \"+\":\n",
    "        result = first + second\n",
    "    elif operator == \"-\":\n",
    "        result = first - second\n",
    "    else:\n",
    "        print(\"Not supported\")\n",
    "    print(f\"{first}{operator}{second} = {result}\")"
   ]
  },
  {
   "cell_type": "code",
   "execution_count": 47,
   "metadata": {},
   "outputs": [
    {
     "name": "stdout",
     "output_type": "stream",
     "text": [
      "23+45 = 68\n"
     ]
    }
   ],
   "source": [
    "calc(23, '+', 45)"
   ]
  },
  {
   "cell_type": "code",
   "execution_count": 48,
   "metadata": {},
   "outputs": [
    {
     "name": "stdout",
     "output_type": "stream",
     "text": [
      "10 + 10 = \n",
      "20\n"
     ]
    }
   ],
   "source": [
    "# TT\n",
    "\n",
    "def calc(first_number, operator, second_number):\n",
    "    if operator == \"+\":\n",
    "        result = first_number + second_number\n",
    "    elif operator == \"-\":\n",
    "        result = first_number - second_number\n",
    "    else:\n",
    "        print(f\"Operator {operator} not supported\")\n",
    "\n",
    "    print(f\"{first_number} {operator} {second_number} = \")\n",
    "    print(result)\n",
    "\n",
    "calc(10, \"+\", 10)"
   ]
  },
  {
   "cell_type": "code",
   "execution_count": 49,
   "metadata": {},
   "outputs": [],
   "source": [
    "# type hints aren't enforced by Python (you need other programs for that)\n",
    "\n",
    "def hello(name:str):   # this is a \"type hint\"\n",
    "    print(f'Hello, {name}!')"
   ]
  },
  {
   "cell_type": "code",
   "execution_count": 50,
   "metadata": {},
   "outputs": [
    {
     "name": "stdout",
     "output_type": "stream",
     "text": [
      "Hello, Reuven!\n"
     ]
    }
   ],
   "source": [
    "hello('Reuven')"
   ]
  },
  {
   "cell_type": "code",
   "execution_count": 51,
   "metadata": {},
   "outputs": [
    {
     "name": "stdout",
     "output_type": "stream",
     "text": [
      "Hello, 5!\n"
     ]
    }
   ],
   "source": [
    "hello(5)"
   ]
  },
  {
   "cell_type": "code",
   "execution_count": 52,
   "metadata": {},
   "outputs": [
    {
     "name": "stdout",
     "output_type": "stream",
     "text": [
      "Hello, [10, 20, 30]!\n"
     ]
    }
   ],
   "source": [
    "hello([10, 20, 30])"
   ]
  },
  {
   "cell_type": "markdown",
   "metadata": {},
   "source": [
    "# Next up\n",
    "\n",
    "1. Documenting our functions with \"docstrings\"\n",
    "2. Return values from our functions\n"
   ]
  },
  {
   "cell_type": "markdown",
   "metadata": {},
   "source": [
    "# Documenting our functions\n",
    "\n",
    "How can we tell people who want to invoke our function what arguments we're epecting them to pass us? How are they supposed to know that we want integers, strings, lists, or anything else?\n",
    "\n",
    "Comments aren't the right answer: Comments are for anyone who will be *maintaining* or *modifying* the function. They are not for people who will be invoking the function.\n",
    "\n",
    "Comments are great, but they are meant for people modifying the program.\n",
    "\n",
    "By contrast, we want to leave documentation for someone invoking our program.\n",
    "\n",
    "In Python, we do this with \"docstrings.\"\n",
    "\n",
    "If the first line of a Python function is a string -- not assigning to a string, but an actual string value -- then that string is used by the function as its docstring, as its documentation. This documentation is displayed in a variety of places; in Jupyter, we can invoke the `help` function to read a docstring. In more sophisticated Python editors such as PyCharm and VSCode, you can hover over a function name to see its documentation."
   ]
  },
  {
   "cell_type": "code",
   "execution_count": 53,
   "metadata": {},
   "outputs": [],
   "source": [
    "def hello(name):   \n",
    "    \"Pass this function a string, and it'll print a nice greeting.\"\n",
    "    print(f'Hello, {name}!')"
   ]
  },
  {
   "cell_type": "code",
   "execution_count": 54,
   "metadata": {},
   "outputs": [
    {
     "name": "stdout",
     "output_type": "stream",
     "text": [
      "Hello, world!\n"
     ]
    }
   ],
   "source": [
    "hello('world')"
   ]
  },
  {
   "cell_type": "code",
   "execution_count": 55,
   "metadata": {},
   "outputs": [
    {
     "name": "stdout",
     "output_type": "stream",
     "text": [
      "Help on function hello in module __main__:\n",
      "\n",
      "hello(name)\n",
      "    Pass this function a string, and it'll print a nice greeting.\n",
      "\n"
     ]
    }
   ],
   "source": [
    "help(hello)   #here, I call help, passing it the hello function"
   ]
  },
  {
   "cell_type": "code",
   "execution_count": 56,
   "metadata": {},
   "outputs": [],
   "source": [
    "# longer docstring? It's traditional to use a \"triple-quoted string,\" which can include newlines\n",
    "# and thus be longer and easier to read/write.\n",
    "\n",
    "def hello(name):   \n",
    "    '''\n",
    "    Prints a nice greeting to the user, including their name.\n",
    "\n",
    "    This function takes one argument, a string, which is included\n",
    "    in the greeting it prints on the screen.\n",
    "    '''\n",
    "    print(f'Hello, {name}!')"
   ]
  },
  {
   "cell_type": "code",
   "execution_count": 57,
   "metadata": {},
   "outputs": [
    {
     "name": "stdout",
     "output_type": "stream",
     "text": [
      "Help on function hello in module __main__:\n",
      "\n",
      "hello(name)\n",
      "    Prints a nice greeting to the user, including their name.\n",
      "\n",
      "    This function takes one argument, a string, which is included\n",
      "    in the greeting it prints on the screen.\n",
      "\n"
     ]
    }
   ],
   "source": [
    "help(hello)"
   ]
  },
  {
   "cell_type": "markdown",
   "metadata": {},
   "source": [
    "# Return values\n",
    "\n",
    "So far, all of our functions have used `print` to display something on the screen. \n",
    "\n",
    "But functions that we didn't write worked in a very different way: They *returned* a value to us. This returned value could be printed, but it also could be passed to another function, or it could be assigned to a variable.\n",
    "\n",
    "For example, if I invoke `len('abcd')`, it doesn't `print` on the screen. But it does return a value. In Jupyter, if I get a value back, it is displayed on the screen.\n",
    "\n",
    "Functions should actually return values, and they should not use `print`. If you use `print`, then the value is displayed on the screen, but you cannot capture, assign, or otherwise use it. By contrast, if you return a value from your function, then the caller has the option of deciding what to do with it.\n",
    "\n",
    "Every function in Python returns a value; if you don't specify what the value is, then the special value `None` is returned for you.\n",
    "\n",
    "You can return whatever you want from your function with the `return` statement:\n",
    "\n",
    "    return 'abcd'\n",
    "    return 5\n",
    "    return [10, 20, 30]\n",
    "\n",
    "As soon as the program hits `return`, the function returns and exits."
   ]
  },
  {
   "cell_type": "code",
   "execution_count": 59,
   "metadata": {},
   "outputs": [],
   "source": [
    "def hello(name):   \n",
    "    return f'Hello, {name}!'   # you can use () here, but people normally don't."
   ]
  },
  {
   "cell_type": "code",
   "execution_count": 61,
   "metadata": {},
   "outputs": [],
   "source": [
    "s = hello('world')"
   ]
  },
  {
   "cell_type": "code",
   "execution_count": 62,
   "metadata": {},
   "outputs": [
    {
     "name": "stdout",
     "output_type": "stream",
     "text": [
      "Hello, world!\n"
     ]
    }
   ],
   "source": [
    "print(s)"
   ]
  },
  {
   "cell_type": "code",
   "execution_count": 63,
   "metadata": {},
   "outputs": [
    {
     "data": {
      "text/plain": [
       "13"
      ]
     },
     "execution_count": 63,
     "metadata": {},
     "output_type": "execute_result"
    }
   ],
   "source": [
    "len(s)"
   ]
  },
  {
   "cell_type": "code",
   "execution_count": 64,
   "metadata": {},
   "outputs": [],
   "source": [
    "def hello(name):   \n",
    "    '''\n",
    "    Prints a nice greeting to the user, including their name.\n",
    "\n",
    "    Expects: One string, the user's name\n",
    "    Modifies: Nothing\n",
    "    Returns: A string containing a greeting with the user's name\n",
    "\n",
    "    '''\n",
    "    return f'Hello, {name}!'"
   ]
  },
  {
   "cell_type": "markdown",
   "metadata": {},
   "source": [
    "A function can print as much as it wants, whenever it wants.\n",
    "\n",
    "But the function can only return a single value. If you have multiple `return` statements in your function, only the first one that Python executes will actually run; the rest will be ignored."
   ]
  },
  {
   "cell_type": "markdown",
   "metadata": {},
   "source": [
    "# Exercise: `calc`\n",
    "\n",
    "1. Modify `calc` such that it returns a string, rather than printing it. Invoke the function and double check you get a string back.\n",
    "2. Modify `calc` such that its docstring includes mention of both its inputs and its output."
   ]
  },
  {
   "cell_type": "code",
   "execution_count": 66,
   "metadata": {},
   "outputs": [
    {
     "data": {
      "text/plain": [
       "'10 + 11 = 21'"
      ]
     },
     "execution_count": 66,
     "metadata": {},
     "output_type": "execute_result"
    }
   ],
   "source": [
    "def calc(first, op, second):\n",
    "    '''\n",
    "    Performs simple calculations.\n",
    "\n",
    "    Expects: Three arguments -- a number, a string (the operator, either '+' or '-'), and a second number\n",
    "    Modifies: Nothing\n",
    "    Returns: A string with the input values and the result of performing the calculation. If the operator is unknownl,\n",
    "    we indicate this in the returned string.\n",
    "    '''\n",
    "    if op == '+':\n",
    "        result = first + second\n",
    "    elif op == '-':\n",
    "        result = first - second\n",
    "    else:\n",
    "        result = f'(Operator {op} is not supported)'\n",
    "\n",
    "    return f'{first} {op} {second} = {result}'\n",
    "\n",
    "calc(10, '+', 11)    "
   ]
  },
  {
   "cell_type": "code",
   "execution_count": 67,
   "metadata": {},
   "outputs": [
    {
     "name": "stdout",
     "output_type": "stream",
     "text": [
      "Help on function calc in module __main__:\n",
      "\n",
      "calc(first, op, second)\n",
      "    Performs simple calculations.\n",
      "\n",
      "    Expects: Three arguments -- a number, a string (the operator, either '+' or '-'), and a second number\n",
      "    Modifies: Nothing\n",
      "    Returns: A string with the input values and the result of performing the calculation. If the operator is unknownl,\n",
      "    we indicate this in the returned string.\n",
      "\n"
     ]
    }
   ],
   "source": [
    "help(calc)"
   ]
  },
  {
   "cell_type": "code",
   "execution_count": 70,
   "metadata": {},
   "outputs": [
    {
     "data": {
      "text/plain": [
       "'10 / 3 = 3.3333333333333335'"
      ]
     },
     "execution_count": 70,
     "metadata": {},
     "output_type": "execute_result"
    }
   ],
   "source": [
    "# SL\n",
    "\n",
    "def calc(number1, operator, number2):\n",
    "    \"\"\"\n",
    "    Perform basic arithmetic operations on two numbers.\n",
    "    Expects: an operator working on two integers.\n",
    "    Modifies: Nothing\n",
    "    Returns: The result of the arithmetic operation in the format num > operator > num = result\".\n",
    "             If the operator is not supported, returns \"Operator not supported\".\n",
    "    \"\"\"\n",
    "    if operator == \"+\":\n",
    "        result = number1 + number2\n",
    "        return f\"{number1} + {number2} = {result}\"\n",
    "    elif operator == \"-\":\n",
    "        result = number1 - number2\n",
    "        return f\"{number1} - {number2} = {result}\"\n",
    "    elif operator == \"/\":\n",
    "        result = number1 / number2\n",
    "        return f\"{number1} / {number2} = {result}\"    \n",
    "    elif operator == \"*\":\n",
    "        result = number1 * number2\n",
    "        return f\"{number1} * {number2} = {result}\"\n",
    "    else:\n",
    "        return \"Operator not supported\"\n",
    "\n",
    "calc(10,'/',3)     "
   ]
  },
  {
   "cell_type": "markdown",
   "metadata": {},
   "source": [
    "# What can we return from a function?\n",
    "\n",
    "Answer: Anything.\n",
    "\n",
    "We can return any Python value: An integer, float, string, list, tuple, dict, or anything else you can imagine.\n",
    "\n",
    "Can you return more than one thing? No, but you can return one tuple containing multiple things, which is basically the same.\n",
    "\n",
    "You could also return a dict whose keys are documented and whose values reflect different pieces of the return value you want to give the user."
   ]
  },
  {
   "cell_type": "code",
   "execution_count": 71,
   "metadata": {},
   "outputs": [
    {
     "name": "stdout",
     "output_type": "stream",
     "text": [
      "Help on method_descriptor:\n",
      "\n",
      "split(self, /, sep=None, maxsplit=-1) unbound builtins.str method\n",
      "    Return a list of the substrings in the string, using sep as the separator string.\n",
      "\n",
      "      sep\n",
      "        The separator used to split the string.\n",
      "\n",
      "        When set to None (the default value), will split on any whitespace\n",
      "        character (including \\n \\r \\t \\f and spaces) and will discard\n",
      "        empty strings from the result.\n",
      "      maxsplit\n",
      "        Maximum number of splits.\n",
      "        -1 (the default value) means no limit.\n",
      "\n",
      "    Splitting starts at the front of the string and works to the end.\n",
      "\n",
      "    Note, str.split() is mainly useful for data that has been intentionally\n",
      "    delimited.  With natural text that includes punctuation, consider using\n",
      "    the regular expression module.\n",
      "\n"
     ]
    }
   ],
   "source": [
    "help(str.split)"
   ]
  },
  {
   "cell_type": "code",
   "execution_count": 72,
   "metadata": {},
   "outputs": [
    {
     "name": "stdout",
     "output_type": "stream",
     "text": [
      "Help on built-in function print in module builtins:\n",
      "\n",
      "print(*args, sep=' ', end='\\n', file=None, flush=False)\n",
      "    Prints the values to a stream, or to sys.stdout by default.\n",
      "\n",
      "    sep\n",
      "      string inserted between values, default a space.\n",
      "    end\n",
      "      string appended after the last value, default a newline.\n",
      "    file\n",
      "      a file-like object (stream); defaults to the current sys.stdout.\n",
      "    flush\n",
      "      whether to forcibly flush the stream.\n",
      "\n"
     ]
    }
   ],
   "source": [
    "help(print)"
   ]
  },
  {
   "cell_type": "code",
   "execution_count": 73,
   "metadata": {},
   "outputs": [
    {
     "data": {
      "text/plain": [
       "(10, 20, 30)"
      ]
     },
     "execution_count": 73,
     "metadata": {},
     "output_type": "execute_result"
    }
   ],
   "source": [
    "def myfunc():\n",
    "    return (10, 20, 30)\n",
    "\n",
    "myfunc()    "
   ]
  },
  {
   "cell_type": "code",
   "execution_count": 74,
   "metadata": {},
   "outputs": [
    {
     "data": {
      "text/plain": [
       "(10, 20, 30)"
      ]
     },
     "execution_count": 74,
     "metadata": {},
     "output_type": "execute_result"
    }
   ],
   "source": [
    "# we can return a tuple without (), too!\n",
    "\n",
    "def myfunc():\n",
    "    return 10, 20, 30   # this is more standard in Python\n",
    "\n",
    "myfunc()    "
   ]
  },
  {
   "cell_type": "code",
   "execution_count": 75,
   "metadata": {},
   "outputs": [
    {
     "name": "stdout",
     "output_type": "stream",
     "text": [
      "(10, 20, 30)\n"
     ]
    }
   ],
   "source": [
    "print(myfunc())"
   ]
  },
  {
   "cell_type": "markdown",
   "metadata": {},
   "source": [
    "# Exercise: Have `calc` return a dict\n",
    "\n",
    "Modify `calc` one last time, such that it doesn't return a string. Rather, it returns a dict:\n",
    "\n",
    "- The dict should have three key-value pairs, `first`, `op` and `second`\n",
    "- It should also have a `result` key, whose value is either a string (with a message) or a number\n",
    "- It should also have an `ok` key, indicating whether the operation was successful or not. This can be `True` or `False`."
   ]
  },
  {
   "cell_type": "code",
   "execution_count": 79,
   "metadata": {},
   "outputs": [
    {
     "data": {
      "text/plain": [
       "{'first': 10, 'op': '+', 'second': 11, 'result': 21, 'ok': True}"
      ]
     },
     "execution_count": 79,
     "metadata": {},
     "output_type": "execute_result"
    }
   ],
   "source": [
    "def calc(first, op, second):\n",
    "    '''\n",
    "    Performs simple calculations.\n",
    "\n",
    "    Expects: Three arguments -- a number, a string (the operator, either '+' or '-'), and a second number\n",
    "    Modifies: Nothing\n",
    "    Returns: A string with the input values and the result of performing the calculation. If the operator is unknownl,\n",
    "    we indicate this in the returned string.\n",
    "    '''\n",
    "\n",
    "    output = {'first':first,\n",
    "              'op':op,\n",
    "              'second':second,\n",
    "              'result':0,\n",
    "              'ok':True}\n",
    "    \n",
    "    if op == '+':\n",
    "        output['result'] = first + second\n",
    "    elif op == '-':\n",
    "        output['result'] = first - second\n",
    "    else:\n",
    "        output['result'] = f'(Operator {op} is not supported)'\n",
    "        output['ok'] = False\n",
    "\n",
    "    return output\n",
    "\n",
    "calc(10, '+', 11)    "
   ]
  },
  {
   "cell_type": "code",
   "execution_count": 81,
   "metadata": {},
   "outputs": [],
   "source": [
    "result_dict = calc(10, '**', 11)    "
   ]
  },
  {
   "cell_type": "code",
   "execution_count": 83,
   "metadata": {},
   "outputs": [
    {
     "name": "stdout",
     "output_type": "stream",
     "text": [
      "Not OK: (Operator ** is not supported)\n"
     ]
    }
   ],
   "source": [
    "if result_dict['ok']:\n",
    "    print(result)\n",
    "else:\n",
    "    print(f'Not OK: {result_dict['result']}')"
   ]
  },
  {
   "cell_type": "code",
   "execution_count": null,
   "metadata": {},
   "outputs": [],
   "source": [
    "# SL\n",
    "\n",
    "def calc(number1, operator, number2):\n",
    "    \"\"\"\n",
    "    Perform basic arithmetic operations on two numbers.\n",
    "    Expects: a 1st number, an operator, and a 2nd number.\n",
    "    Modifies: Nothing at all\n",
    "    Returns: A dictionary containing the keys 'number1', 'operator', 'number2', 'result'.  An 'okay'.\n",
    "              will appear if the operation succeeds, and if not, it will be \"False\".\n",
    "    \"\"\"\n",
    "    result_dict = {\"number1\": number1,\"operator\": operator, \"number2\": number2, \"result\": None, \"okay\": False\n",
    "    }\n",
    "    \n",
    "    if operator == \"+\":\n",
    "        result_dict[\"result\"] = number1 + number2\n",
    "        result_dict[\"okay\"] = True\n",
    "    elif operator == \"-\":\n",
    "        result_dict[\"result\"] = number1 - number2\n",
    "        result_dict[\"okay\"] = True\n",
    "    elif operator == \"/\":\n",
    "        result_dict[\"result\"] = number1 / number2\n",
    "        result_dict[\"okay\"] = True    \n",
    "    elif operator == \"*\":\n",
    "        result_dict[\"result\"] = number1 * number2\n",
    "        result_dict[\"okay\"] = True\n",
    "    else:\n",
    "        result_dict[\"result\"] = \"Operator not supported\"\n",
    "    \n",
    "    return result_dict\n",
    "calc(10,'/',3)    "
   ]
  },
  {
   "cell_type": "code",
   "execution_count": 87,
   "metadata": {},
   "outputs": [
    {
     "name": "stdout",
     "output_type": "stream",
     "text": [
      "{'first': 10, 'op': '*', 'second': 11, 'result': '(Operator * is not supported)', 'ok': False}\n"
     ]
    }
   ],
   "source": [
    "# CK \n",
    "\n",
    "def calc(first, operator, second):\n",
    "\n",
    "    output = {'first': first,'op': operator,'second': second,'result': 0,'ok': True}\n",
    "\n",
    "    if operator == '+':\n",
    "        output['result'] = first + second\n",
    "    elif operator == '-':\n",
    "        output['result'] = first - second\n",
    "    else:\n",
    "        output['result'] = f'(Operator {operator} is not supported)'\n",
    "        output['ok'] = False\n",
    "\n",
    "    return output\n",
    "\n",
    "print(calc(10, '*', 11))"
   ]
  },
  {
   "cell_type": "markdown",
   "metadata": {},
   "source": [
    "# Returning a tuple\n",
    "\n",
    "If we return a tuple, then it's technically only one value, and thus allowed. But a tuple can contain any number of values, and they can be of different types.\n",
    "\n",
    "Moreover, we can grab them via unpacking and turn them into separate variables.\n",
    "\n",
    "So this gives us the feeling/illusion of returning multiple values, even if we're only technically returning one."
   ]
  },
  {
   "cell_type": "code",
   "execution_count": 88,
   "metadata": {},
   "outputs": [],
   "source": [
    "def myfunc():\n",
    "    return 10, 20, 30   # we don't need parentheses"
   ]
  },
  {
   "cell_type": "code",
   "execution_count": 89,
   "metadata": {},
   "outputs": [
    {
     "data": {
      "text/plain": [
       "(10, 20, 30)"
      ]
     },
     "execution_count": 89,
     "metadata": {},
     "output_type": "execute_result"
    }
   ],
   "source": [
    "myfunc()"
   ]
  },
  {
   "cell_type": "code",
   "execution_count": 90,
   "metadata": {},
   "outputs": [],
   "source": [
    "# invoke our function, get a tuple back, and assign each value in the tuple to a separate variable\n",
    "\n",
    "x,y,z = myfunc()"
   ]
  },
  {
   "cell_type": "code",
   "execution_count": 94,
   "metadata": {},
   "outputs": [],
   "source": [
    "def myfunc(first, operator, second):\n",
    "    output = {'first': first,'op': operator,'second': second,'result': 0}\n",
    "\n",
    "    return True, output    # a tuple with a True/False value a dict "
   ]
  },
  {
   "cell_type": "code",
   "execution_count": 95,
   "metadata": {},
   "outputs": [
    {
     "data": {
      "text/plain": [
       "(True, {'first': 10, 'op': '+', 'second': 3, 'result': 0})"
      ]
     },
     "execution_count": 95,
     "metadata": {},
     "output_type": "execute_result"
    }
   ],
   "source": [
    "myfunc(10, '+', 3)"
   ]
  },
  {
   "cell_type": "code",
   "execution_count": 96,
   "metadata": {},
   "outputs": [],
   "source": [
    "# we can capture the two tuple elements separately with unpacking!\n",
    "\n",
    "is_ok, result = myfuxnc(10, '+', 3)"
   ]
  },
  {
   "cell_type": "code",
   "execution_count": 98,
   "metadata": {},
   "outputs": [
    {
     "name": "stdout",
     "output_type": "stream",
     "text": [
      "10 + 3 = 0\n"
     ]
    }
   ],
   "source": [
    "if is_ok:\n",
    "    print(f'{result[\"first\"]} {result[\"op\"]} {result['second']} = {result['result']}')\n",
    "else:\n",
    "    print(f'Problem: {result['result']}')"
   ]
  },
  {
   "cell_type": "code",
   "execution_count": 100,
   "metadata": {},
   "outputs": [
    {
     "name": "stdout",
     "output_type": "stream",
     "text": [
      "Problem: 0\n"
     ]
    }
   ],
   "source": [
    "def myfunc(first, operator, second):\n",
    "    output = {'first': first,'op': operator,'second': second,'result': 0}\n",
    "\n",
    "    return False, output    # a tuple with a True/False value a dict \n",
    "\n",
    "is_ok, result = myfunc(10, '+', 3)\n",
    "\n",
    "if is_ok:\n",
    "    print(f'{result[\"first\"]} {result[\"op\"]} {result['second']} = {result['result']}')\n",
    "else:\n",
    "    print(f'Problem: {result['result']}')    \n"
   ]
  },
  {
   "cell_type": "code",
   "execution_count": null,
   "metadata": {},
   "outputs": [],
   "source": []
  },
  {
   "cell_type": "markdown",
   "metadata": {},
   "source": [
    "# Next up\n",
    "\n",
    "- Special kinds of parameters\n",
    "- Default arguments\n",
    "- `*args`"
   ]
  },
  {
   "cell_type": "markdown",
   "metadata": {},
   "source": [
    "# Special parameters\n",
    "\n",
    "Other languages let you define a function multiple times, each with a different function signature:\n",
    "\n",
    "- 1 int argument\n",
    "- 2 int arguments\n",
    "- 2 strings\n",
    "- a list\n",
    "\n",
    "If you define your function multiple times, each with its own function signature, the language will look at your invocation of the function and will choose the version of the function that matches your call. If you call the function with 2 integers, you'll get that version. If you call the function with a list, you'll get that version.\n",
    "\n",
    "This is not at all how things work in Python!\n",
    "\n",
    "We have a single opportunity to define a function in Python. This means that the function needs to be flexible, enough that we can call it with different types and numbers of arguments.\n",
    "\n",
    "The way we do this in Python is by defining our parameters to be special and different.\n",
    "\n",
    "The easiest and most common type of special parameter is one that has a default argument value. This allows us to make a parameter optional!"
   ]
  },
  {
   "cell_type": "code",
   "execution_count": 101,
   "metadata": {},
   "outputs": [
    {
     "data": {
      "text/plain": [
       "13"
      ]
     },
     "execution_count": 101,
     "metadata": {},
     "output_type": "execute_result"
    }
   ],
   "source": [
    "def add(first, second):\n",
    "    return first + second\n",
    "\n",
    "add(10, 3)    "
   ]
  },
  {
   "cell_type": "code",
   "execution_count": 102,
   "metadata": {},
   "outputs": [
    {
     "data": {
      "text/plain": [
       "227"
      ]
     },
     "execution_count": 102,
     "metadata": {},
     "output_type": "execute_result"
    }
   ],
   "source": [
    "add(200, 27)"
   ]
  },
  {
   "cell_type": "code",
   "execution_count": 103,
   "metadata": {},
   "outputs": [
    {
     "ename": "TypeError",
     "evalue": "add() missing 1 required positional argument: 'second'",
     "output_type": "error",
     "traceback": [
      "\u001b[31m---------------------------------------------------------------------------\u001b[39m",
      "\u001b[31mTypeError\u001b[39m                                 Traceback (most recent call last)",
      "\u001b[36mCell\u001b[39m\u001b[36m \u001b[39m\u001b[32mIn[103]\u001b[39m\u001b[32m, line 4\u001b[39m\n\u001b[32m      1\u001b[39m \u001b[38;5;66;03m# what if I want to invoke add with only one argument?\u001b[39;00m\n\u001b[32m      2\u001b[39m \u001b[38;5;66;03m# I'll get an error\u001b[39;00m\n\u001b[32m----> \u001b[39m\u001b[32m4\u001b[39m \u001b[43madd\u001b[49m\u001b[43m(\u001b[49m\u001b[32;43m200\u001b[39;49m\u001b[43m)\u001b[49m\n",
      "\u001b[31mTypeError\u001b[39m: add() missing 1 required positional argument: 'second'"
     ]
    }
   ],
   "source": [
    "# what if I want to invoke add with only one argument?\n",
    "# I'll get an error\n",
    "\n",
    "add(200)"
   ]
  },
  {
   "cell_type": "code",
   "execution_count": 104,
   "metadata": {},
   "outputs": [],
   "source": [
    "# we can (re-)define the function such that the \"second\" parameter has a default argument value.\n",
    "# meaning: If we don't provide an argument, it'll use the default we provided.\n",
    "\n",
    "def add(first, second=10):    # syntax is: variable=value\n",
    "    return first + second"
   ]
  },
  {
   "cell_type": "code",
   "execution_count": 105,
   "metadata": {},
   "outputs": [
    {
     "data": {
      "text/plain": [
       "50"
      ]
     },
     "execution_count": 105,
     "metadata": {},
     "output_type": "execute_result"
    }
   ],
   "source": [
    "# parameters:  first second\n",
    "# arguments:     20    30\n",
    "\n",
    "add(20, 30)"
   ]
  },
  {
   "cell_type": "code",
   "execution_count": 106,
   "metadata": {},
   "outputs": [
    {
     "data": {
      "text/plain": [
       "30"
      ]
     },
     "execution_count": 106,
     "metadata": {},
     "output_type": "execute_result"
    }
   ],
   "source": [
    "# parameters:  first second\n",
    "# arguments:     20    10\n",
    "\n",
    "add(20)"
   ]
  },
  {
   "cell_type": "markdown",
   "metadata": {},
   "source": [
    "# Default arguments\n",
    "\n",
    "Any of a function's parameters can be set to have a default argument value. This value is used if/when the function gets too few arguments. Before/rather than giving an error, the function pulls the default out and assigns it to the parameter *before* the function starts to execute.\n",
    "\n",
    "A few things to note:\n",
    "\n",
    "- The syntax is `variable=value`\n",
    "- Having a default argument effectively makes a parameter optional\n",
    "- All parameters with defaults must come after parameters without default (i.e., all optional parameters must come after all mandatory parameters)\n",
    "- As a general rule, you want to avoid having default values that are mutable. So integers and strings are fine, but lists and dicts are not."
   ]
  },
  {
   "cell_type": "code",
   "execution_count": 107,
   "metadata": {},
   "outputs": [
    {
     "data": {
      "text/plain": [
       "12"
      ]
     },
     "execution_count": 107,
     "metadata": {},
     "output_type": "execute_result"
    }
   ],
   "source": [
    "# in this example:\n",
    "# - first is mandatory\n",
    "# - second is optional, because it has a default argument value\n",
    "\n",
    "def add(first, second=10):   \n",
    "    return first + second\n",
    "\n",
    "add(2)"
   ]
  },
  {
   "cell_type": "code",
   "execution_count": 108,
   "metadata": {},
   "outputs": [
    {
     "name": "stdout",
     "output_type": "stream",
     "text": [
      "Help on method_descriptor:\n",
      "\n",
      "split(self, /, sep=None, maxsplit=-1) unbound builtins.str method\n",
      "    Return a list of the substrings in the string, using sep as the separator string.\n",
      "\n",
      "      sep\n",
      "        The separator used to split the string.\n",
      "\n",
      "        When set to None (the default value), will split on any whitespace\n",
      "        character (including \\n \\r \\t \\f and spaces) and will discard\n",
      "        empty strings from the result.\n",
      "      maxsplit\n",
      "        Maximum number of splits.\n",
      "        -1 (the default value) means no limit.\n",
      "\n",
      "    Splitting starts at the front of the string and works to the end.\n",
      "\n",
      "    Note, str.split() is mainly useful for data that has been intentionally\n",
      "    delimited.  With natural text that includes punctuation, consider using\n",
      "    the regular expression module.\n",
      "\n"
     ]
    }
   ],
   "source": [
    "help(str.split)"
   ]
  },
  {
   "cell_type": "markdown",
   "metadata": {},
   "source": [
    "# Exercise: Count characters\n",
    "\n",
    "1. Define a function, `count_chars`, that takes two arguments:\n",
    "    - `filename`, the name of a file we want to read through\n",
    "    - `chars_to_count`, a string containing the characters we want to count in `filename`. By default, this will be `'aeiou'`\n",
    "2. The function should have a dict whose keys are the characters in `chars_to_count`\n",
    "3. When we run the function, it'll open the file, iterate (with a `for` loop over it, giving us each line of the file)\n",
    "4. We'll then iterate over every character in the line (a `for` loop inside of the outer `for` loop)\n",
    "4. If the character is in `chars_to_count`, then add 1 to `total`, an int that starts at 0\n",
    "5. Return `total` to the caller.\n"
   ]
  },
  {
   "cell_type": "code",
   "execution_count": 112,
   "metadata": {},
   "outputs": [
    {
     "data": {
      "text/plain": [
       "203"
      ]
     },
     "execution_count": 112,
     "metadata": {},
     "output_type": "execute_result"
    }
   ],
   "source": [
    "def count_chars(filename, chars_to_count='aeiou'):\n",
    "    total = 0\n",
    "\n",
    "    for one_line in open(filename):      # iterate over the lines of the file\n",
    "        for one_character in one_line:   # iterate over the characters in the current line\n",
    "            if one_character in chars_to_count:   # is this character one we want to count?\n",
    "                total += 1\n",
    "\n",
    "    return total\n",
    "\n",
    "count_chars('/etc/passwd', 'wxyz')    # count 'wxyz'"
   ]
  },
  {
   "cell_type": "code",
   "execution_count": 113,
   "metadata": {},
   "outputs": [
    {
     "data": {
      "text/plain": [
       "2117"
      ]
     },
     "execution_count": 113,
     "metadata": {},
     "output_type": "execute_result"
    }
   ],
   "source": [
    "count_chars('/etc/passwd')  # vowel count"
   ]
  },
  {
   "cell_type": "code",
   "execution_count": null,
   "metadata": {},
   "outputs": [],
   "source": [
    "# AR\n",
    "\n",
    "def char_counter(filename, chars_to_count='aeiou'):\n",
    "    char_count = {}\n",
    "    total = 0\n",
    "    found = 0\n",
    "    for each_line in open(filename, 'r'):\n",
    "        for each_char in each_line:\n",
    "            total += 1\n",
    "            if each_char in chars_to_count:\n",
    "                found += 1\n",
    "                char_count[each_char] += 1\n",
    "    return found, total, char_count"
   ]
  },
  {
   "cell_type": "markdown",
   "metadata": {},
   "source": [
    "# I want a `mysum` function\n",
    "\n",
    "Python comes with a `sum` function that can get a list of numbers and return their sum. What if I want to implement a similar function?\n",
    "\n"
   ]
  },
  {
   "cell_type": "code",
   "execution_count": 114,
   "metadata": {},
   "outputs": [],
   "source": [
    "def mysum(numbers):\n",
    "    total = 0\n",
    "\n",
    "    for one_number in numbers:\n",
    "        total += one_number\n",
    "\n",
    "    return total"
   ]
  },
  {
   "cell_type": "code",
   "execution_count": 115,
   "metadata": {},
   "outputs": [
    {
     "data": {
      "text/plain": [
       "150"
      ]
     },
     "execution_count": 115,
     "metadata": {},
     "output_type": "execute_result"
    }
   ],
   "source": [
    "mysum([10, 20, 30, 40, 50])"
   ]
  },
  {
   "cell_type": "code",
   "execution_count": 116,
   "metadata": {},
   "outputs": [
    {
     "data": {
      "text/plain": [
       "90"
      ]
     },
     "execution_count": 116,
     "metadata": {},
     "output_type": "execute_result"
    }
   ],
   "source": [
    "mysum([30, 30, 30])"
   ]
  },
  {
   "cell_type": "code",
   "execution_count": 117,
   "metadata": {},
   "outputs": [
    {
     "ename": "TypeError",
     "evalue": "mysum() takes 1 positional argument but 3 were given",
     "output_type": "error",
     "traceback": [
      "\u001b[31m---------------------------------------------------------------------------\u001b[39m",
      "\u001b[31mTypeError\u001b[39m                                 Traceback (most recent call last)",
      "\u001b[36mCell\u001b[39m\u001b[36m \u001b[39m\u001b[32mIn[117]\u001b[39m\u001b[32m, line 4\u001b[39m\n\u001b[32m      1\u001b[39m \u001b[38;5;66;03m# why can't I just invoke mysum with a bunch of numbers?\u001b[39;00m\n\u001b[32m      2\u001b[39m \u001b[38;5;66;03m# why does a list needs to be involved?\u001b[39;00m\n\u001b[32m----> \u001b[39m\u001b[32m4\u001b[39m \u001b[43mmysum\u001b[49m\u001b[43m(\u001b[49m\u001b[32;43m20\u001b[39;49m\u001b[43m,\u001b[49m\u001b[43m \u001b[49m\u001b[32;43m40\u001b[39;49m\u001b[43m,\u001b[49m\u001b[43m \u001b[49m\u001b[32;43m60\u001b[39;49m\u001b[43m)\u001b[49m   \u001b[38;5;66;03m# this won't work...\u001b[39;00m\n",
      "\u001b[31mTypeError\u001b[39m: mysum() takes 1 positional argument but 3 were given"
     ]
    }
   ],
   "source": [
    "# why can't I just invoke mysum with a bunch of numbers?\n",
    "# why does a list needs to be involved?\n",
    "\n",
    "mysum(20, 40, 60)   # this won't work..."
   ]
  },
  {
   "cell_type": "markdown",
   "metadata": {},
   "source": [
    "# Modifying `mysum` to take any number of arguments\n",
    "\n",
    "We can do this by adding the special parameter `*args` (\"splat args\") in Python. If we do this, then `args` will always be a tuple, containing whatever values the user passed.\n",
    "\n",
    "It's typical to iterate over `args` inside of the function body, not to retrieve based on a particular index."
   ]
  },
  {
   "cell_type": "code",
   "execution_count": 118,
   "metadata": {},
   "outputs": [],
   "source": [
    "def mysum(*numbers):   # the variable name doesn't matter\n",
    "    total = 0\n",
    "\n",
    "    for one_number in numbers:\n",
    "        total += one_number\n",
    "\n",
    "    return total"
   ]
  },
  {
   "cell_type": "code",
   "execution_count": 120,
   "metadata": {},
   "outputs": [
    {
     "data": {
      "text/plain": [
       "60"
      ]
     },
     "execution_count": 120,
     "metadata": {},
     "output_type": "execute_result"
    }
   ],
   "source": [
    "# parameters:  *numbers\n",
    "# arguments:  (10, 20, 30)\n",
    "\n",
    "mysum(10, 20, 30)"
   ]
  },
  {
   "cell_type": "markdown",
   "metadata": {},
   "source": [
    "# `*args` is common!\n",
    "\n",
    "- This is why we can invoke `print` and pass any number of things we need printed\n",
    "\n",
    "Now you know how just how to pass multple arguments to a function, but also how to get them into a single variable and retrieve them."
   ]
  },
  {
   "cell_type": "code",
   "execution_count": 121,
   "metadata": {},
   "outputs": [
    {
     "name": "stdout",
     "output_type": "stream",
     "text": [
      "a b c d e\n"
     ]
    }
   ],
   "source": [
    "print('a', 'b', 'c', 'd', 'e')"
   ]
  },
  {
   "cell_type": "markdown",
   "metadata": {},
   "source": [
    "# Exercise: `count_vowels` with multiple files\n",
    "\n",
    "Rewrite `count_vowels` such that it takes any number of filenames. It'll only count vowels, so you don't need to pass `chars_to_count` or any such things. \n",
    "\n",
    "The function should return a dict:\n",
    "- The keys will be the filenames\n",
    "- The values will be the number of vowels in each file.\n",
    "\n",
    "Example:\n",
    "\n",
    "    count_vowels('/etc/passwd',  ...)"
   ]
  },
  {
   "cell_type": "code",
   "execution_count": 127,
   "metadata": {},
   "outputs": [
    {
     "data": {
      "text/plain": [
       "{'/etc/passwd': 2117}"
      ]
     },
     "execution_count": 127,
     "metadata": {},
     "output_type": "execute_result"
    }
   ],
   "source": [
    "def count_vowels(*filenames):\n",
    "    output = {}\n",
    "\n",
    "    for one_filename in filenames:\n",
    "        output[one_filename] = 0\n",
    "\n",
    "        for one_line in open(one_filename):      # iterate over the lines of the file\n",
    "            for one_character in one_line:       # iterate over the characters in the current line\n",
    "                if one_character in 'aeiou':     # is this character one we want to count?\n",
    "                    output[one_filename] += 1\n",
    "\n",
    "    return output\n",
    "\n",
    "count_vowels('/etc/passwd')"
   ]
  },
  {
   "cell_type": "code",
   "execution_count": 129,
   "metadata": {},
   "outputs": [
    {
     "data": {
      "text/plain": [
       "{'/etc/passwd': 2117, '/Users/reuven/.zshrc': 407}"
      ]
     },
     "execution_count": 129,
     "metadata": {},
     "output_type": "execute_result"
    }
   ],
   "source": [
    "count_vowels('/etc/passwd', '/Users/reuven/.zshrc')"
   ]
  },
  {
   "cell_type": "code",
   "execution_count": 130,
   "metadata": {},
   "outputs": [
    {
     "data": {
      "text/plain": [
       "13"
      ]
     },
     "execution_count": 130,
     "metadata": {},
     "output_type": "execute_result"
    }
   ],
   "source": [
    "# CC\n",
    "\n",
    "def count_chars(*filenames):\n",
    "    total = 0\n",
    "    \n",
    "    for filename in filenames:\n",
    "        for one_line in filename:\n",
    "            for one_character in one_line:\n",
    "                if one_character in \"aeiou\":\n",
    "                    total += 1\n",
    "    return total\n",
    "    \n",
    "count_chars('/etc/passwd', \"exercise-files/mini-access-log\")"
   ]
  },
  {
   "cell_type": "code",
   "execution_count": 132,
   "metadata": {},
   "outputs": [
    {
     "data": {
      "text/plain": [
       "{'/etc/passwd': 2117}"
      ]
     },
     "execution_count": 132,
     "metadata": {},
     "output_type": "execute_result"
    }
   ],
   "source": [
    "count_vowels('/etc/passwd', '/etc/passwd')"
   ]
  },
  {
   "cell_type": "code",
   "execution_count": 133,
   "metadata": {},
   "outputs": [],
   "source": [
    "# CK\n",
    "\n",
    "def count_charts(*filenames):  # only here do you need * before the name filenames\n",
    "    total = 0\n",
    "    for one_filename in filenames:\n",
    "        with open(one_filename) as f:\n",
    "            for line in f:\n",
    "                for char in line:\n",
    "                    if char in 'aeiou':\n",
    "                        total += 1\n",
    "\n",
    "        return filenames, total"
   ]
  },
  {
   "cell_type": "code",
   "execution_count": 134,
   "metadata": {},
   "outputs": [
    {
     "data": {
      "text/plain": [
       "(('/etc/passwd', '/Users/reuven/.zshrc'), 2117)"
      ]
     },
     "execution_count": 134,
     "metadata": {},
     "output_type": "execute_result"
    }
   ],
   "source": [
    "count_charts('/etc/passwd', '/Users/reuven/.zshrc')"
   ]
  },
  {
   "cell_type": "code",
   "execution_count": null,
   "metadata": {},
   "outputs": [],
   "source": []
  }
 ],
 "metadata": {
  "kernelspec": {
   "display_name": "Python 3 (ipykernel)",
   "language": "python",
   "name": "python3"
  },
  "language_info": {
   "codemirror_mode": {
    "name": "ipython",
    "version": 3
   },
   "file_extension": ".py",
   "mimetype": "text/x-python",
   "name": "python",
   "nbconvert_exporter": "python",
   "pygments_lexer": "ipython3",
   "version": "3.13.2"
  }
 },
 "nbformat": 4,
 "nbformat_minor": 4
}
