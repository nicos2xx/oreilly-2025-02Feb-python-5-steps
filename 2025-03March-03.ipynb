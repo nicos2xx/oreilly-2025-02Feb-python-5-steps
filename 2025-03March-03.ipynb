{
 "cells": [
  {
   "cell_type": "markdown",
   "metadata": {},
   "source": [
    "# Agenda, week 4: Functions\n",
    "\n",
    "- Q&A\n",
    "- What are functions?\n",
    "- Writing simple functions\n",
    "- Arguments and parameters\n",
    "- Return values\n",
    "- Complex return values\n",
    "- Local vs. global variables\n",
    "- More advanced parameter types"
   ]
  },
  {
   "cell_type": "markdown",
   "metadata": {},
   "source": [
    "# What are functions?\n",
    "\n",
    "I've already said that functions (and methods) are the verbs in a programming language. When we want our program to do something, we invoke a function.\n",
    "\n",
    "If we want the computer to do new things that are specific to our interests/projects, do we need to write functions?\n",
    "\n",
    "Answer: No!\n",
    "\n",
    "If we want, we can use only the builtin functions to do whatever we want. But that's a bad idea:\n",
    "\n",
    "- DRY (don't repeat yourself) rule -- if we have the same functionality in several places, we can write a function and then call it in each of those places. If/when the function then needs fine-tuning, debugging, improvements, etc., we can modify it in one place, and those modifications will affect all of the invocations\n",
    "- We can think at a higher level -- rather than thinking about many very small actions, we can write a function and then think of it as a larger, higher-level action. This is known as *abstraction*. We don't think about the small stuff, but give it a name and think about the larger container.\n",
    "\n",
    "The important thing to remember is that a function gives one (new) name to a variety of actions that we could have listed one at a time."
   ]
  },
  {
   "cell_type": "markdown",
   "metadata": {},
   "source": [
    "# How can we write our own function?\n",
    "\n",
    "- We use the keyword `def` (\"define\") to start a function definition.\n",
    "- Then we name the function we want to write. This name should follow the same rules as all Python variables -- all lowercase, using `_` between words, and make it appropriate for the task it'll do\n",
    "- Then we have (for now) empty `()`\n",
    "- At the end of the (first) line, we have `:`\n",
    "- Following that, we have an indented \"function body,\" the stuff that will execute every time we call the function. The function body can contain any Python code we want -- `if`, `for`, `input`, `print`, etc.\n",
    "- The function body doesn't execute when we define the function! Rather, it executes when we invoke the function."
   ]
  },
  {
   "cell_type": "code",
   "execution_count": 1,
   "metadata": {},
   "outputs": [],
   "source": [
    "def hello():\n",
    "    print('Hello out there!')    # inside of my function, I'm calling the \"print\" function!"
   ]
  },
  {
   "cell_type": "markdown",
   "metadata": {},
   "source": [
    "# Now what?\n",
    "\n",
    "We've now defined our function. We have actually defined a variable, `hello`, and it has a function in it. Functions are nouns in Python, just like strings, lists, tuples, dicts, etc. The difference is, we can also execute them.\n",
    "\n",
    "Because `def` defines a variable (just like `=`, but for functions), this means that you **cannot** in Python have a variable and a function with the same name. It would be like having to variables named `x`; if you do that, then the latter one to be defined is still active/available.\n",
    "\n",
    "If we want to call our function, we can put its name in the code, followed by `()`, which tell Python to execute the function."
   ]
  },
  {
   "cell_type": "code",
   "execution_count": 2,
   "metadata": {},
   "outputs": [
    {
     "name": "stdout",
     "output_type": "stream",
     "text": [
      "Hello out there!\n"
     ]
    }
   ],
   "source": [
    "hello()"
   ]
  },
  {
   "cell_type": "markdown",
   "metadata": {},
   "source": [
    "# Exercise: Calculator\n",
    "\n",
    "1. Define a function, `calc`, that will allow us to perform some basic calculations.\n",
    "2. When the function is run, it will invoke `input` three times to get three values from the user:\n",
    "    - the first number\n",
    "    - the operator (as a string)\n",
    "    - the second number\n",
    "3. Remember that `input` always returns a string, so you'll need to convert the numbers from strings into integers.\n",
    "4. The operator should be either `+` or `-`.\n",
    "5. Print the full expression and its solution. If the user provided an operator that we don't support, the result can be \"not supported.\"\n",
    "\n",
    "Example:\n",
    "\n",
    "    First: 10\n",
    "    Operator: +\n",
    "    Second: 5\n",
    "    10 + 5 = 15\n",
    "\n",
    "    First: 10\n",
    "    Operator: **\n",
    "    Second: 3\n",
    "    10 ** 3 = (not supported)\n",
    "\n"
   ]
  },
  {
   "cell_type": "code",
   "execution_count": 10,
   "metadata": {},
   "outputs": [],
   "source": [
    "def calc():\n",
    "    first = input('First: ').strip()\n",
    "    op = input('Operator: ').strip()\n",
    "    second = input('Second: ').strip()\n",
    "\n",
    "    first = int(first)\n",
    "    second = int(second)\n",
    "\n",
    "    if op == '+':\n",
    "        result = first + second\n",
    "    elif op == '-':\n",
    "        result = first - second\n",
    "    else:\n",
    "        result = f'(Operator {op} is not supported)'\n",
    "\n",
    "    print(f'{first} {op} {second} = {result}')"
   ]
  },
  {
   "cell_type": "code",
   "execution_count": 11,
   "metadata": {},
   "outputs": [
    {
     "name": "stdin",
     "output_type": "stream",
     "text": [
      "First:  10\n",
      "Operator:  **\n",
      "Second:  6\n"
     ]
    },
    {
     "name": "stdout",
     "output_type": "stream",
     "text": [
      "10 ** 6 = (Operator ** is not supported)\n"
     ]
    }
   ],
   "source": [
    "calc()"
   ]
  },
  {
   "cell_type": "code",
   "execution_count": 12,
   "metadata": {},
   "outputs": [
    {
     "name": "stdin",
     "output_type": "stream",
     "text": [
      "Enter the first number:  2\n",
      "Enter the operator (+ or - ):  +\n",
      "Enter the second number:  3\n"
     ]
    },
    {
     "name": "stdout",
     "output_type": "stream",
     "text": [
      "2 + 3 = 5\n"
     ]
    }
   ],
   "source": [
    "# SL\n",
    "\n",
    "def calc():\n",
    "    number1 = int(input(\"Enter the first number: \"))\n",
    "    operator = input(\"Enter the operator (+ or - ): \")\n",
    "    number2 = int(input(\"Enter the second number: \"))\n",
    "    \n",
    "    if operator == \"+\":\n",
    "        result = number1 + number2\n",
    "        print(f\"{number1} + {number2} = {result}\")\n",
    "    elif operator == \"-\":\n",
    "        result = number1 - number2\n",
    "        print(f\"{number1} - {number2} = {result}\")\n",
    "    else:\n",
    "        print(\"Operator not supported\")\n",
    "calc()"
   ]
  },
  {
   "cell_type": "code",
   "execution_count": 15,
   "metadata": {},
   "outputs": [],
   "source": [
    "# CC\n",
    "\n",
    "def calc():\n",
    "    f_nm = input(\"first number:\").strip()\n",
    "    f_nm = int(f_nm)\n",
    "    \n",
    "    operator = input(\"operator:\").strip()\n",
    "    \n",
    "    s_nm = input(\"second number:\").strip()\n",
    "    s_nm = int(s_nm)\n",
    "    \n",
    "    if operator == \"+\":\n",
    "        result = f_nm + s_nm\n",
    "    elif operator == \"-\":\n",
    "        result = f_nm - s_nm\n",
    "    else:\n",
    "        print(\"not supported\")\n",
    "    \n",
    "    print(f\"primo numero:{f_nm}\\noperatore{operator}\\nsecondo numero:{s_nm}\\nresult: {result}\")"
   ]
  },
  {
   "cell_type": "code",
   "execution_count": 16,
   "metadata": {},
   "outputs": [
    {
     "name": "stdin",
     "output_type": "stream",
     "text": [
      "first number: 10\n",
      "operator: +\n",
      "second number: 3\n"
     ]
    },
    {
     "name": "stdout",
     "output_type": "stream",
     "text": [
      "primo numero:10\n",
      "operatore+\n",
      "secondo numero:3\n",
      "result: 13\n"
     ]
    }
   ],
   "source": [
    "calc()"
   ]
  },
  {
   "cell_type": "code",
   "execution_count": 19,
   "metadata": {},
   "outputs": [
    {
     "name": "stdin",
     "output_type": "stream",
     "text": [
      "Enter your first number:  100\n",
      "Enter an operator (+ or -):  *\n",
      "Enter a second number:  23\n"
     ]
    },
    {
     "name": "stdout",
     "output_type": "stream",
     "text": [
      "Operator not supported!\n"
     ]
    }
   ],
   "source": [
    "# EP\n",
    "\n",
    "def calc():\n",
    "    x = int(input(\"Enter your first number: \"))\n",
    "    y = input(\"Enter an operator (+ or -): \")\n",
    "    w = int(input(\"Enter a second number: \"))\n",
    "    \n",
    "    if y == \"+\":\n",
    "        result = x + w\n",
    "        print(f\"The result is: {result}\")\n",
    "    elif y == \"-\":\n",
    "        result = x - w\n",
    "        print(f\"The result is: {result}\")\n",
    "    else:\n",
    "        print(\"Operator not supported!\")\n",
    "\n",
    "calc()\n"
   ]
  },
  {
   "cell_type": "code",
   "execution_count": 20,
   "metadata": {},
   "outputs": [
    {
     "name": "stdin",
     "output_type": "stream",
     "text": [
      "Enter first number:  10\n",
      "Enter operator:  +\n",
      "Enter second number:  3\n"
     ]
    },
    {
     "name": "stdout",
     "output_type": "stream",
     "text": [
      "10 + 3 = 13\n"
     ]
    }
   ],
   "source": [
    "# CK\n",
    "\n",
    "\n",
    "def calculate():\n",
    "    first_number = int(input(\"Enter first number: \"))\n",
    "    operator = input(\"Enter operator: \").strip()\n",
    "    second_number = int(input(\"Enter second number: \"))\n",
    "\n",
    "    if operator == \"+\":\n",
    "        result = first_number + second_number\n",
    "        print(f'{first_number} + {second_number} = {result}')\n",
    "    elif operator == \"-\":\n",
    "        result = first_number - second_number\n",
    "        print(f'{first_number} + {second_number} = {result}')\n",
    "    else:\n",
    "        print(\"Invalid operator\")\n",
    "\n",
    "calculate()"
   ]
  },
  {
   "cell_type": "code",
   "execution_count": 21,
   "metadata": {},
   "outputs": [
    {
     "name": "stdout",
     "output_type": "stream",
     "text": [
      "10 + 3 = 13\n"
     ]
    }
   ],
   "source": [
    "calculate()"
   ]
  },
  {
   "cell_type": "code",
   "execution_count": 22,
   "metadata": {},
   "outputs": [],
   "source": [
    "# CA\n",
    "\n",
    "def calc():\n",
    "    result = 0\n",
    "    first_number = int(input(\"Tell me the first  number:\"))\n",
    "    operator_numbers = input(\"Tell a operator: \")\n",
    "    second_number = int(input(\"Tell me the second number: \"))\n",
    "    \n",
    "    if operator_numbers == \"+\" :\n",
    "        result = first_number + second_number\n",
    "    elif operator_numbers == '-':\n",
    "        result = first_number - second_number\n",
    "    else:\n",
    "        print(\"not supported\")\n",
    "        \n",
    "    print(f\"{first_number} {operator_numbers} {second_number} = {result}\")"
   ]
  },
  {
   "cell_type": "code",
   "execution_count": 23,
   "metadata": {},
   "outputs": [
    {
     "name": "stdin",
     "output_type": "stream",
     "text": [
      "Tell me the first  number: 3\n",
      "Tell a operator:  *\n",
      "Tell me the second number:  5\n"
     ]
    },
    {
     "name": "stdout",
     "output_type": "stream",
     "text": [
      "not supported\n",
      "3 * 5 = 0\n"
     ]
    }
   ],
   "source": [
    "calc()"
   ]
  },
  {
   "cell_type": "code",
   "execution_count": 26,
   "metadata": {},
   "outputs": [
    {
     "name": "stdin",
     "output_type": "stream",
     "text": [
      "First:  10\n",
      "Operator:  /\n",
      "Second:  2\n"
     ]
    },
    {
     "name": "stdout",
     "output_type": "stream",
     "text": [
      "10 / 2 = 5.0\n"
     ]
    }
   ],
   "source": [
    "# how would we handle division?\n",
    "\n",
    "def calc():\n",
    "    first = input('First: ').strip()\n",
    "    op = input('Operator: ').strip()\n",
    "    second = input('Second: ').strip()\n",
    "\n",
    "    first = int(first)\n",
    "    second = int(second)\n",
    "\n",
    "    if op == '+':\n",
    "        result = first + second\n",
    "    elif op == '-':\n",
    "        result = first - second\n",
    "    elif op == '/':\n",
    "        result = first / second\n",
    "    else:\n",
    "        result = f'(Operator {op} is not supported)'\n",
    "\n",
    "    print(f'{first} {op} {second} = {result}')\n",
    "\n",
    "calc()    "
   ]
  },
  {
   "cell_type": "code",
   "execution_count": 24,
   "metadata": {},
   "outputs": [
    {
     "name": "stdout",
     "output_type": "stream",
     "text": [
      "Hello out there!\n"
     ]
    }
   ],
   "source": [
    "def hello():\n",
    "    print('Hello out there!')\n",
    "\n",
    "hello()    "
   ]
  },
  {
   "cell_type": "markdown",
   "metadata": {},
   "source": [
    "What happens if I want to print the person's name? Right now, I have two options:\n",
    "\n",
    "1. I can use `input` inside of the function\n",
    "2. I can hard-code it, meaning define person's name and never change\n",
    "\n",
    "What we really want to do is modify the function, such that it can get input from whoever calls it.\n",
    "\n",
    "We've seen this a lot; if I want to invoke `len`, I have to pass it an *argument*, a value on which it will calculate the length."
   ]
  },
  {
   "cell_type": "code",
   "execution_count": 27,
   "metadata": {},
   "outputs": [
    {
     "data": {
      "text/plain": [
       "5"
      ]
     },
     "execution_count": 27,
     "metadata": {},
     "output_type": "execute_result"
    }
   ],
   "source": [
    "len('hello')"
   ]
  },
  {
   "cell_type": "markdown",
   "metadata": {},
   "source": [
    "Generally speaking, it's far better to get arguments from the caller than to invoke `input` inside of the function. If no other reason than you don't want to have to be at the computer every time your function is called to type/enter some values.\n",
    "\n",
    "To accept an argument, we'll need to define our function with one or more *parameters*. Each parameter will get the value from an argument."
   ]
  },
  {
   "cell_type": "code",
   "execution_count": 29,
   "metadata": {},
   "outputs": [],
   "source": [
    "def hello(name):   # name is a parameter in the \"hello\" function; it gets its value from whoever calls the function\n",
    "    print(f'Hello, {name}!')\n",
    "\n"
   ]
  },
  {
   "cell_type": "code",
   "execution_count": 30,
   "metadata": {},
   "outputs": [
    {
     "ename": "TypeError",
     "evalue": "hello() missing 1 required positional argument: 'name'",
     "output_type": "error",
     "traceback": [
      "\u001b[31m---------------------------------------------------------------------------\u001b[39m",
      "\u001b[31mTypeError\u001b[39m                                 Traceback (most recent call last)",
      "\u001b[36mCell\u001b[39m\u001b[36m \u001b[39m\u001b[32mIn[30]\u001b[39m\u001b[32m, line 2\u001b[39m\n\u001b[32m      1\u001b[39m \u001b[38;5;66;03m# if I try to call \"hello\" without any arguments, I'll get an error message\u001b[39;00m\n\u001b[32m----> \u001b[39m\u001b[32m2\u001b[39m \u001b[43mhello\u001b[49m\u001b[43m(\u001b[49m\u001b[43m)\u001b[49m\n",
      "\u001b[31mTypeError\u001b[39m: hello() missing 1 required positional argument: 'name'"
     ]
    }
   ],
   "source": [
    "# if I try to call \"hello\" without any arguments, I'll get an error message\n",
    "hello()"
   ]
  },
  {
   "cell_type": "code",
   "execution_count": 31,
   "metadata": {},
   "outputs": [
    {
     "name": "stdout",
     "output_type": "stream",
     "text": [
      "Hello, world!\n"
     ]
    }
   ],
   "source": [
    "hello('world')"
   ]
  },
  {
   "cell_type": "code",
   "execution_count": 32,
   "metadata": {},
   "outputs": [
    {
     "ename": "TypeError",
     "evalue": "hello() takes 1 positional argument but 2 were given",
     "output_type": "error",
     "traceback": [
      "\u001b[31m---------------------------------------------------------------------------\u001b[39m",
      "\u001b[31mTypeError\u001b[39m                                 Traceback (most recent call last)",
      "\u001b[36mCell\u001b[39m\u001b[36m \u001b[39m\u001b[32mIn[32]\u001b[39m\u001b[32m, line 1\u001b[39m\n\u001b[32m----> \u001b[39m\u001b[32m1\u001b[39m \u001b[43mhello\u001b[49m\u001b[43m(\u001b[49m\u001b[33;43m'\u001b[39;49m\u001b[33;43mout\u001b[39;49m\u001b[33;43m'\u001b[39;49m\u001b[43m,\u001b[49m\u001b[43m \u001b[49m\u001b[33;43m'\u001b[39;49m\u001b[33;43mthere\u001b[39;49m\u001b[33;43m'\u001b[39;49m\u001b[43m)\u001b[49m\n",
      "\u001b[31mTypeError\u001b[39m: hello() takes 1 positional argument but 2 were given"
     ]
    }
   ],
   "source": [
    "hello('out', 'there')"
   ]
  },
  {
   "cell_type": "code",
   "execution_count": 33,
   "metadata": {},
   "outputs": [
    {
     "name": "stdout",
     "output_type": "stream",
     "text": [
      "Hello, Reuven!\n"
     ]
    }
   ],
   "source": [
    "# parameters:    name\n",
    "# arguments:    'Reuven'\n",
    "\n",
    "def hello(name): \n",
    "    print(f'Hello, {name}!')\n",
    "\n",
    "hello('Reuven')"
   ]
  },
  {
   "cell_type": "markdown",
   "metadata": {},
   "source": [
    "# Arguments vs. parameters\n",
    "\n",
    "Many, many, *many* programmers confuse these two terms:\n",
    "\n",
    "- Arguments are values that we pass to functions when we invoke them.\n",
    "- Parameters are variables that are part of the function definition, and which get assigned arguments when the function is called.\n",
    "\n",
    "Generally speaking, the number of arguments must equal the number of parameters.\n",
    "\n",
    "Note that in Python, you cannot indicate what kind of value you require an argument to be. Anyone can call your function with whatever values they want."
   ]
  },
  {
   "cell_type": "code",
   "execution_count": 34,
   "metadata": {},
   "outputs": [],
   "source": [
    "def add(first, second):\n",
    "    print(first + second)"
   ]
  },
  {
   "cell_type": "code",
   "execution_count": 35,
   "metadata": {},
   "outputs": [
    {
     "name": "stdout",
     "output_type": "stream",
     "text": [
      "15\n"
     ]
    }
   ],
   "source": [
    "# parameters: first second\n",
    "# arguments:   10     5\n",
    "\n",
    "add(10, 5)"
   ]
  },
  {
   "cell_type": "code",
   "execution_count": 36,
   "metadata": {},
   "outputs": [
    {
     "name": "stdout",
     "output_type": "stream",
     "text": [
      "helloworld\n"
     ]
    }
   ],
   "source": [
    "add('hello', 'world')"
   ]
  },
  {
   "cell_type": "code",
   "execution_count": 37,
   "metadata": {},
   "outputs": [],
   "source": [
    "# CO\n",
    "\n",
    "def calc():\n",
    "  first_number = int(input(\"Enter a number: \").strip())\n",
    "  operator = input(\"Enter the operator; choose from [+, -]: \").strip()\n",
    "  second_number = int(input(\"Enter the last number: \").strip())\n",
    "\n",
    "  if operator == \"+\":\n",
    "    result = first_number + second_number\n",
    "  elif operator == \"-\":\n",
    "    result = first_number - second_number\n",
    "  else:\n",
    "    print(f\"Operator {operator} not supported\")\n",
    "\n",
    "  print(f\"{first_numbber} {operator} {second_number} = \")\n",
    "  print(result)"
   ]
  },
  {
   "cell_type": "code",
   "execution_count": 38,
   "metadata": {},
   "outputs": [
    {
     "name": "stdin",
     "output_type": "stream",
     "text": [
      "Enter a number:  100\n",
      "Enter the operator; choose from [+, -]:  +\n",
      "Enter the last number:  20\n"
     ]
    },
    {
     "name": "stdout",
     "output_type": "stream",
     "text": [
      "100 + 20 = \n",
      "120\n"
     ]
    }
   ],
   "source": [
    "calc()"
   ]
  },
  {
   "cell_type": "markdown",
   "metadata": {},
   "source": [
    "# Exercise: Add parameters to `calc`\n",
    "\n",
    "1. Modify `calc` such that it no longer uses `input` to get the numbers and operator.\n",
    "2. Rather, it should take three arguments, which will be assigned to three parameters.\n",
    "\n",
    "Example:\n",
    "\n",
    "    calc(10, '+', 3)   # should print 10 + 3 = 13"
   ]
  },
  {
   "cell_type": "code",
   "execution_count": 39,
   "metadata": {},
   "outputs": [
    {
     "ename": "TypeError",
     "evalue": "calc() missing 3 required positional arguments: 'first', 'op', and 'second'",
     "output_type": "error",
     "traceback": [
      "\u001b[31m---------------------------------------------------------------------------\u001b[39m",
      "\u001b[31mTypeError\u001b[39m                                 Traceback (most recent call last)",
      "\u001b[36mCell\u001b[39m\u001b[36m \u001b[39m\u001b[32mIn[39]\u001b[39m\u001b[32m, line 15\u001b[39m\n\u001b[32m     11\u001b[39m         result = \u001b[33mf\u001b[39m\u001b[33m'\u001b[39m\u001b[33m(Operator \u001b[39m\u001b[38;5;132;01m{\u001b[39;00mop\u001b[38;5;132;01m}\u001b[39;00m\u001b[33m is not supported)\u001b[39m\u001b[33m'\u001b[39m\n\u001b[32m     13\u001b[39m     \u001b[38;5;28mprint\u001b[39m(\u001b[33mf\u001b[39m\u001b[33m'\u001b[39m\u001b[38;5;132;01m{\u001b[39;00mfirst\u001b[38;5;132;01m}\u001b[39;00m\u001b[33m \u001b[39m\u001b[38;5;132;01m{\u001b[39;00mop\u001b[38;5;132;01m}\u001b[39;00m\u001b[33m \u001b[39m\u001b[38;5;132;01m{\u001b[39;00msecond\u001b[38;5;132;01m}\u001b[39;00m\u001b[33m = \u001b[39m\u001b[38;5;132;01m{\u001b[39;00mresult\u001b[38;5;132;01m}\u001b[39;00m\u001b[33m'\u001b[39m)\n\u001b[32m---> \u001b[39m\u001b[32m15\u001b[39m \u001b[43mcalc\u001b[49m\u001b[43m(\u001b[49m\u001b[43m)\u001b[49m    \n",
      "\u001b[31mTypeError\u001b[39m: calc() missing 3 required positional arguments: 'first', 'op', and 'second'"
     ]
    }
   ],
   "source": [
    "# how would we handle division?\n",
    "\n",
    "def calc(first, op, second):\n",
    "    if op == '+':\n",
    "        result = first + second\n",
    "    elif op == '-':\n",
    "        result = first - second\n",
    "    elif op == '/':\n",
    "        result = first / second\n",
    "    else:\n",
    "        result = f'(Operator {op} is not supported)'\n",
    "\n",
    "    print(f'{first} {op} {second} = {result}')\n",
    "\n",
    "calc()    "
   ]
  },
  {
   "cell_type": "code",
   "execution_count": 40,
   "metadata": {},
   "outputs": [
    {
     "name": "stdout",
     "output_type": "stream",
     "text": [
      "20 + 8 = 28\n"
     ]
    }
   ],
   "source": [
    "calc(20, '+', 8)"
   ]
  },
  {
   "cell_type": "code",
   "execution_count": 41,
   "metadata": {},
   "outputs": [
    {
     "name": "stdout",
     "output_type": "stream",
     "text": [
      "32 - 15 = 17\n"
     ]
    }
   ],
   "source": [
    "calc(32, '-', 15)"
   ]
  },
  {
   "cell_type": "code",
   "execution_count": 42,
   "metadata": {},
   "outputs": [
    {
     "name": "stdout",
     "output_type": "stream",
     "text": [
      "32 ** 15 = (Operator ** is not supported)\n"
     ]
    }
   ],
   "source": [
    "calc(32, '**', 15)"
   ]
  },
  {
   "cell_type": "code",
   "execution_count": 43,
   "metadata": {},
   "outputs": [
    {
     "name": "stdout",
     "output_type": "stream",
     "text": [
      "The result is: 1\n"
     ]
    }
   ],
   "source": [
    "# EP\n",
    "\n",
    "def calc(num1, op, num2):\n",
    "    \n",
    "    if op == \"+\":\n",
    "        result = num1 + num2\n",
    "        print(f\"The result is: {result}\")\n",
    "    elif op == \"-\":\n",
    "        result = num1 - num2\n",
    "        print(f\"The result is: {result}\")\n",
    "    else:\n",
    "        print(\"Operator not supported!\")\n",
    "\n",
    "calc(3, '-', 2)\n"
   ]
  },
  {
   "cell_type": "code",
   "execution_count": null,
   "metadata": {},
   "outputs": [],
   "source": [
    "# AR\n",
    "\n",
    "def calc(first, op, second):\n",
    "    val = []\n",
    "    if op == '+':\n",
    "        val.insert(0,int(first) + int(second))\n",
    "    elif op == '-':\n",
    "        val.insert(0,int(first) - int(second))\n",
    "\n",
    "    return val\n",
    "    \n",
    "while True:\n",
    "    first = input(\"First: \").strip()\n",
    "    op = input(\"Operator: \").strip()\n",
    "    second = input(\"Second: \").strip()\n",
    "\n",
    "    res = calc(first, op, second)\n",
    "\n",
    "    if len(res) == 1:\n",
    "        print(f'{first} {op} {second} = {res[0]}')\n",
    "    else:\n",
    "        print(f'{first} {op} {second} = (not supported)')\n",
    "        break\n",
    "    "
   ]
  },
  {
   "cell_type": "code",
   "execution_count": 44,
   "metadata": {},
   "outputs": [],
   "source": [
    "# SL\n",
    "\n",
    "def calc(number1, operator, number2):\n",
    "\n",
    "    if operator == \"+\":\n",
    "        result = number1 + number2\n",
    "        print(f\"{number1} + {number2} = {result}\")\n",
    "    elif operator == \"-\":\n",
    "        result = number1 - number2\n",
    "        print(f\"{number1} - {number2} = {result}\")\n",
    "    elif operator == \"/\":\n",
    "        result = number1 / number2\n",
    "        print(f\"{number1} / {number2} = {result}\")    \n",
    "    elif operator == \"*\":\n",
    "        result = number1 * number2\n",
    "        print(f\"{number1} * {number2} = {result}\")\n",
    "    else:\n",
    "        print(\"Operator not supported\")"
   ]
  },
  {
   "cell_type": "code",
   "execution_count": 45,
   "metadata": {},
   "outputs": [
    {
     "name": "stdout",
     "output_type": "stream",
     "text": [
      "10 * 3 = 30\n"
     ]
    }
   ],
   "source": [
    "calc(10, '*', 3)"
   ]
  },
  {
   "cell_type": "code",
   "execution_count": 46,
   "metadata": {},
   "outputs": [],
   "source": [
    "# CC\n",
    "\n",
    "def calc(first, operator, second):\n",
    "    if operator == \"+\":\n",
    "        result = first + second\n",
    "    elif operator == \"-\":\n",
    "        result = first - second\n",
    "    else:\n",
    "        print(\"Not supported\")\n",
    "    print(f\"{first}{operator}{second} = {result}\")"
   ]
  },
  {
   "cell_type": "code",
   "execution_count": 47,
   "metadata": {},
   "outputs": [
    {
     "name": "stdout",
     "output_type": "stream",
     "text": [
      "23+45 = 68\n"
     ]
    }
   ],
   "source": [
    "calc(23, '+', 45)"
   ]
  },
  {
   "cell_type": "code",
   "execution_count": 48,
   "metadata": {},
   "outputs": [
    {
     "name": "stdout",
     "output_type": "stream",
     "text": [
      "10 + 10 = \n",
      "20\n"
     ]
    }
   ],
   "source": [
    "# TT\n",
    "\n",
    "def calc(first_number, operator, second_number):\n",
    "    if operator == \"+\":\n",
    "        result = first_number + second_number\n",
    "    elif operator == \"-\":\n",
    "        result = first_number - second_number\n",
    "    else:\n",
    "        print(f\"Operator {operator} not supported\")\n",
    "\n",
    "    print(f\"{first_number} {operator} {second_number} = \")\n",
    "    print(result)\n",
    "\n",
    "calc(10, \"+\", 10)"
   ]
  },
  {
   "cell_type": "code",
   "execution_count": 49,
   "metadata": {},
   "outputs": [],
   "source": [
    "# type hints aren't enforced by Python (you need other programs for that)\n",
    "\n",
    "def hello(name:str):   # this is a \"type hint\"\n",
    "    print(f'Hello, {name}!')"
   ]
  },
  {
   "cell_type": "code",
   "execution_count": 50,
   "metadata": {},
   "outputs": [
    {
     "name": "stdout",
     "output_type": "stream",
     "text": [
      "Hello, Reuven!\n"
     ]
    }
   ],
   "source": [
    "hello('Reuven')"
   ]
  },
  {
   "cell_type": "code",
   "execution_count": 51,
   "metadata": {},
   "outputs": [
    {
     "name": "stdout",
     "output_type": "stream",
     "text": [
      "Hello, 5!\n"
     ]
    }
   ],
   "source": [
    "hello(5)"
   ]
  },
  {
   "cell_type": "code",
   "execution_count": 52,
   "metadata": {},
   "outputs": [
    {
     "name": "stdout",
     "output_type": "stream",
     "text": [
      "Hello, [10, 20, 30]!\n"
     ]
    }
   ],
   "source": [
    "hello([10, 20, 30])"
   ]
  },
  {
   "cell_type": "markdown",
   "metadata": {},
   "source": [
    "# Next up\n",
    "\n",
    "1. Documenting our functions with \"docstrings\"\n",
    "2. Return values from our functions\n"
   ]
  },
  {
   "cell_type": "markdown",
   "metadata": {},
   "source": [
    "# Documenting our functions\n",
    "\n",
    "How can we tell people who want to invoke our function what arguments we're epecting them to pass us? How are they supposed to know that we want integers, strings, lists, or anything else?\n",
    "\n",
    "Comments aren't the right answer: Comments are for anyone who will be *maintaining* or *modifying* the function. They are not for people who will be invoking the function.\n",
    "\n",
    "Comments are great, but they are meant for people modifying the program.\n",
    "\n",
    "By contrast, we want to leave documentation for someone invoking our program.\n",
    "\n",
    "In Python, we do this with \"docstrings.\"\n",
    "\n",
    "If the first line of a Python function is a string -- not assigning to a string, but an actual string value -- then that string is used by the function as its docstring, as its documentation. This documentation is displayed in a variety of places; in Jupyter, we can invoke the `help` function to read a docstring. In more sophisticated Python editors such as PyCharm and VSCode, you can hover over a function name to see its documentation."
   ]
  },
  {
   "cell_type": "code",
   "execution_count": 53,
   "metadata": {},
   "outputs": [],
   "source": [
    "def hello(name):   \n",
    "    \"Pass this function a string, and it'll print a nice greeting.\"\n",
    "    print(f'Hello, {name}!')"
   ]
  },
  {
   "cell_type": "code",
   "execution_count": 54,
   "metadata": {},
   "outputs": [
    {
     "name": "stdout",
     "output_type": "stream",
     "text": [
      "Hello, world!\n"
     ]
    }
   ],
   "source": [
    "hello('world')"
   ]
  },
  {
   "cell_type": "code",
   "execution_count": 55,
   "metadata": {},
   "outputs": [
    {
     "name": "stdout",
     "output_type": "stream",
     "text": [
      "Help on function hello in module __main__:\n",
      "\n",
      "hello(name)\n",
      "    Pass this function a string, and it'll print a nice greeting.\n",
      "\n"
     ]
    }
   ],
   "source": [
    "help(hello)   #here, I call help, passing it the hello function"
   ]
  },
  {
   "cell_type": "code",
   "execution_count": 56,
   "metadata": {},
   "outputs": [],
   "source": [
    "# longer docstring? It's traditional to use a \"triple-quoted string,\" which can include newlines\n",
    "# and thus be longer and easier to read/write.\n",
    "\n",
    "def hello(name):   \n",
    "    '''\n",
    "    Prints a nice greeting to the user, including their name.\n",
    "\n",
    "    This function takes one argument, a string, which is included\n",
    "    in the greeting it prints on the screen.\n",
    "    '''\n",
    "    print(f'Hello, {name}!')"
   ]
  },
  {
   "cell_type": "code",
   "execution_count": 57,
   "metadata": {},
   "outputs": [
    {
     "name": "stdout",
     "output_type": "stream",
     "text": [
      "Help on function hello in module __main__:\n",
      "\n",
      "hello(name)\n",
      "    Prints a nice greeting to the user, including their name.\n",
      "\n",
      "    This function takes one argument, a string, which is included\n",
      "    in the greeting it prints on the screen.\n",
      "\n"
     ]
    }
   ],
   "source": [
    "help(hello)"
   ]
  },
  {
   "cell_type": "markdown",
   "metadata": {},
   "source": [
    "# Return values\n",
    "\n",
    "So far, all of our functions have used `print` to display something on the screen. \n",
    "\n",
    "But functions that we didn't write worked in a very different way: They *returned* a value to us. This returned value could be printed, but it also could be passed to another function, or it could be assigned to a variable.\n",
    "\n",
    "For example, if I invoke `len('abcd')`, it doesn't"
   ]
  }
 ],
 "metadata": {
  "kernelspec": {
   "display_name": "Python 3 (ipykernel)",
   "language": "python",
   "name": "python3"
  },
  "language_info": {
   "codemirror_mode": {
    "name": "ipython",
    "version": 3
   },
   "file_extension": ".py",
   "mimetype": "text/x-python",
   "name": "python",
   "nbconvert_exporter": "python",
   "pygments_lexer": "ipython3",
   "version": "3.13.2"
  }
 },
 "nbformat": 4,
 "nbformat_minor": 4
}
