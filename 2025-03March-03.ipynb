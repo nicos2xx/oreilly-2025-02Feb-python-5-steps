{
 "cells": [
  {
   "cell_type": "markdown",
   "metadata": {},
   "source": [
    "# Agenda, week 4: Functions\n",
    "\n",
    "- Q&A\n",
    "- What are functions?\n",
    "- Writing simple functions\n",
    "- Arguments and parameters\n",
    "- Return values\n",
    "- Complex return values\n",
    "- Local vs. global variables\n",
    "- More advanced parameter types"
   ]
  },
  {
   "cell_type": "markdown",
   "metadata": {},
   "source": [
    "# What are functions?\n",
    "\n",
    "I've already said that functions (and methods) are the verbs in a programming language. When we want our program to do something, we invoke a function.\n",
    "\n",
    "If we want the computer to do new things that are specific to our interests/projects, do we need to write functions?\n",
    "\n",
    "Answer: No!\n",
    "\n",
    "If we want, we can use only the builtin functions to do whatever we want. But that's a bad idea:\n",
    "\n",
    "- DRY (don't repeat yourself) rule -- if we have the same functionality in several places, we can write a function and then call it in each of those places. If/when the function then needs fine-tuning, debugging, improvements, etc., we can modify it in one place, and those modifications will affect all of the invocations\n",
    "- We can think at a higher level -- rather than thinking about many very small actions, we can write a function and then think of it as a larger, higher-level action. This is known as *abstraction*. We don't think about the small stuff, but give it a name and think about the larger container.\n",
    "\n",
    "The important thing to remember is that a function gives one (new) name to a variety of actions that we could have listed one at a time."
   ]
  },
  {
   "cell_type": "markdown",
   "metadata": {},
   "source": [
    "# How can we write our own function?\n",
    "\n",
    "- We use the keyword `def` (\"define\") to start a function definition.\n",
    "- Then we name the function we want to write. This name should follow the same rules as all Python variables -- all lowercase, using `_` between words, and make it appropriate for the task it'll do\n",
    "- Then we have (for now) empty `()`\n",
    "- At the end of the (first) line, we have `:`\n",
    "- Following that, we have an indented \"function body,\" the stuff that will execute every time we call the function. The function body can contain any Python code we want -- `if`, `for`, `input`, `print`, etc.\n",
    "- The function body doesn't execute when we define the function! Rather, it executes when we invoke the function."
   ]
  },
  {
   "cell_type": "code",
   "execution_count": 1,
   "metadata": {},
   "outputs": [],
   "source": [
    "def hello():\n",
    "    print('Hello out there!')    # inside of my function, I'm calling the \"print\" function!"
   ]
  },
  {
   "cell_type": "markdown",
   "metadata": {},
   "source": [
    "# Now what?\n",
    "\n",
    "We've now defined our function. We have actually defined a variable, `hello`, and it has a function in it. Functions are nouns in Python, just like strings, lists, tuples, dicts, etc. The difference is, we can also execute them.\n",
    "\n",
    "Because `def` defines a variable (just like `=`, but for functions), this means that you **cannot** in Python have a variable and a function with the same name. It would be like having to variables named `x`; if you do that, then the latter one to be defined is still active/available.\n",
    "\n",
    "If we want to call our function, we can put its name in the code, followed by `()`, which tell Python to execute the function."
   ]
  },
  {
   "cell_type": "code",
   "execution_count": 2,
   "metadata": {},
   "outputs": [
    {
     "name": "stdout",
     "output_type": "stream",
     "text": [
      "Hello out there!\n"
     ]
    }
   ],
   "source": [
    "hello()"
   ]
  },
  {
   "cell_type": "markdown",
   "metadata": {},
   "source": [
    "# Exercise: Calculator\n",
    "\n",
    "1. Define a function, `calc`, that will allow us to perform some basic calculations.\n",
    "2. When the function is run, it will invoke `input` three times to get three values from the user:\n",
    "    - the first number\n",
    "    - the operator (as a string)\n",
    "    - the second number\n",
    "3. Remember that `input` always returns a string, so you'll need to convert the numbers from strings into integers.\n",
    "4. The operator should be either `+` or `-`.\n",
    "5. Print the full expression and its solution. If the user provided an operator that we don't support, the result can be \"not supported.\"\n",
    "\n",
    "Example:\n",
    "\n",
    "    First: 10\n",
    "    Operator: +\n",
    "    Second: 5\n",
    "    10 + 5 = 15\n",
    "\n",
    "    First: 10\n",
    "    Operator: **\n",
    "    Second: 3\n",
    "    10 ** 3 = (not supported)\n",
    "\n"
   ]
  },
  {
   "cell_type": "code",
   "execution_count": null,
   "metadata": {},
   "outputs": [],
   "source": []
  }
 ],
 "metadata": {
  "kernelspec": {
   "display_name": "Python 3 (ipykernel)",
   "language": "python",
   "name": "python3"
  },
  "language_info": {
   "codemirror_mode": {
    "name": "ipython",
    "version": 3
   },
   "file_extension": ".py",
   "mimetype": "text/x-python",
   "name": "python",
   "nbconvert_exporter": "python",
   "pygments_lexer": "ipython3",
   "version": "3.13.2"
  }
 },
 "nbformat": 4,
 "nbformat_minor": 4
}
